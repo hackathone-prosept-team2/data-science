{
 "cells": [
  {
   "cell_type": "markdown",
   "id": "13519501",
   "metadata": {},
   "source": [
    "# Мэтчинг товаров дилера и заказчика"
   ]
  },
  {
   "cell_type": "markdown",
   "id": "36ad526d",
   "metadata": {},
   "source": [
    "## Описание проекта\n",
    "\n",
    "Заказчик производит несколько сотен различных товаров бытовой и промышленной химии, а затем продаёт эти товары через дилеров. Дилеры, в свою очередь, занимаются розничной продажей товаров в крупных сетях магазинов и на онлайн\n",
    "площадках. Для оценки ситуации, управления ценами и бизнесом в целом, заказчик периодически собирает информацию о том, как дилеры продают их товар. Для этого они парсят сайты дилеров, а затем сопоставляют товары и цены. Зачастую описание товаров на сайтах дилеров отличаются от того описания, что даёт заказчик. Например, могут добавляться новый слова (“универсальный”, “эффективный”), объём (0.6 л -> 600 мл). Поэтому сопоставление товаров дилеров с товарами производителя делается вручную.  \n",
    "Основная идея - предлагать несколько товаров заказчика, которые с наибольшей вероятностью соответствуют размечаемому товару дилера. Предлагается реализовать это решение, как онлайн сервис, открываемый в веб- браузере. Выбор наиболее вероятных подсказок делается методами машинного обучения\n",
    "\n",
    "**ЦЕЛЬ:** разработать решения, которое автоматизирует процесс сопоставления товаров.  \n",
    "\n",
    "**Задачи:**\n",
    "   - выгрузить данные\n",
    "   - сделать предобработку\n",
    "   - обработать текст в столбцах с названиями товаров\n",
    "   - создать ембеддинги предложений \n",
    "   - попробовать разные модели,\n",
    "   - оценить метрики и выбрать лучшую модель\n"
   ]
  },
  {
   "cell_type": "markdown",
   "id": "3eeec089",
   "metadata": {},
   "source": [
    "## Описание данных\n",
    "\n",
    "Заказчик предоставил несколько таблиц (дамп БД), содержащих необходимые данные:  \n",
    "\n",
    "1. `dealers` - список дилеров:\n",
    "   - id - уникальный ключ дилера;\n",
    "   - name - наименование дилера</br>\n",
    "</br>  \n",
    "2. `dealer_products` - результат работы парсера площадок дилеров:\n",
    "   - product_key - уникальный номер позиции;\n",
    "   - price - цена;\n",
    "   - product_url - адрес страницы, откуда собраны данные;\n",
    "   - product_name - заголовок продаваемого товара;\n",
    "   - date - дата получения информации;\n",
    "   - dealer_id - идентификатор дилера (внешний ключ к dealers)</br>\n",
    "</br>\n",
    "3. `products` - список товаров, которые производит и распространяет заказчик:\n",
    "   - id - уникальный ключ товара в базе заказчика\n",
    "   - article - артикул товара;\n",
    "   - ean_13 - код товара (см. EAN 13)\n",
    "   - name - название товара;\n",
    "   - cost - стоимость;\n",
    "   - recommended_price - рекомендованная цена;\n",
    "   - category_id - категория товара;\n",
    "   - ozon_name - названиет товара на Озоне;\n",
    "   - name_1c - название товара в 1C;\n",
    "   - wb_name - название товара на Wildberries;\n",
    "   - ozon_article - описание для Озон;\n",
    "   - wb_article - артикул для Wildberries;\n",
    "   - ym_article - артикул для Яндекс.Маркета;</br>  \n",
    "</br>  \n",
    "4. `match` - таблица матчинга товаров заказчика и товаров дилеров:\n",
    "   - key - внешний ключ к dealer_products;\n",
    "   - product_id - внешний ключ к products;\n",
    "   - dealer_id - внешний ключ к dealers."
   ]
  },
  {
   "cell_type": "code",
   "execution_count": null,
   "id": "0a7ecc3b",
   "metadata": {},
   "outputs": [],
   "source": [
    "import nltk\n",
    "import spacy\n",
    "import re \n",
    "import string\n",
    "import torch\n",
    "from nltk.corpus import stopwords\n",
    "from nltk.tokenize import word_tokenize\n",
    "from nltk.stem import WordNetLemmatizer\n",
    "from sentence_transformers import SentenceTransformer, util\n",
    "from sklearn.feature_extraction.text import TfidfVectorizer, TfidfTransformer\n",
    "from sklearn.metrics import pairwise_distances\n",
    "from sklearn.metrics.pairwise import cosine_similarity\n",
    "from sklearn.preprocessing import StandardScaler\n",
    "from sklearn.preprocessing import MinMaxScaler\n",
    "from sklearn.model_selection import train_test_split\n",
    "from scipy import sparse\n",
    "from scipy.spatial.distance import pdist\n",
    "from concurrent import futures\n",
    "from tqdm import tqdm\n",
    "import warnings\n",
    "warnings.simplefilter(action='ignore')\n",
    "pd.set_option('display.max_rows', 100)\n",
    "pd.set_option('display.max_columns', 20)\n",
    "pd.set_option('display.max_colwidth', 500)"
   ]
  },
  {
   "cell_type": "markdown",
   "id": "08923685",
   "metadata": {},
   "source": [
    "## Выгрузка и обработка данных"
   ]
  },
  {
   "cell_type": "code",
   "execution_count": null,
   "id": "f37c5052",
   "metadata": {},
   "outputs": [],
   "source": [
    "# Выгрузим данные из 4х таблиц в отдельные датафреймы\n",
    "dealers = pd.read_csv('marketing_dealer.csv', sep=';')\n",
    "dealer_products = pd.read_csv('marketing_dealerprice.csv', sep=';')\n",
    "products = pd.read_csv('marketing_product.csv', sep=';')\n",
    "match = pd.read_csv('marketing_productdealerkey.csv', sep=';')"
   ]
  },
  {
   "cell_type": "code",
   "execution_count": null,
   "id": "6945d3f6",
   "metadata": {
    "scrolled": true
   },
   "outputs": [],
   "source": [
    "dealers.sample(5)"
   ]
  },
  {
   "cell_type": "code",
   "execution_count": null,
   "id": "3fb7d208",
   "metadata": {},
   "outputs": [],
   "source": [
    "dealers.info()"
   ]
  },
  {
   "cell_type": "code",
   "execution_count": null,
   "id": "fa8af1dc",
   "metadata": {},
   "outputs": [],
   "source": [
    "dealers['name'].unique()"
   ]
  },
  {
   "cell_type": "markdown",
   "id": "c4ff1e81",
   "metadata": {},
   "source": [
    "В таблице `dealers` собрана информация по названиям дилеров и их id. Всего в таблице представлено 18 уникальных дилеров.  \n",
    "Для решения поставленной задачи на текущий момент данная таблица не требуется."
   ]
  },
  {
   "cell_type": "code",
   "execution_count": null,
   "id": "e85fafef",
   "metadata": {},
   "outputs": [],
   "source": [
    "dealer_products.sample(5)"
   ]
  },
  {
   "cell_type": "code",
   "execution_count": null,
   "id": "6d7abc35",
   "metadata": {},
   "outputs": [],
   "source": [
    "# удалим лишний столбец 'id\n",
    "dealer_products = dealer_products.drop(['id'], axis=1)"
   ]
  },
  {
   "cell_type": "code",
   "execution_count": null,
   "id": "b559bdbc",
   "metadata": {},
   "outputs": [],
   "source": [
    "dealer_products.info()"
   ]
  },
  {
   "cell_type": "code",
   "execution_count": null,
   "id": "3d967884",
   "metadata": {},
   "outputs": [],
   "source": [
    "dealer_products.nunique()"
   ]
  },
  {
   "cell_type": "code",
   "execution_count": null,
   "id": "407cb5b4",
   "metadata": {},
   "outputs": [],
   "source": [
    "sorted(dealer_products['date'].unique())"
   ]
  },
  {
   "cell_type": "markdown",
   "id": "e19fd2eb",
   "metadata": {},
   "source": [
    "В таблице из 20416 записей лишь около 10% уникальных ключей, ссылок и названий продуктов. Все данные собраны за 14 дней: с 11-07 по 31-0-23."
   ]
  },
  {
   "cell_type": "code",
   "execution_count": null,
   "id": "0fc0d967",
   "metadata": {},
   "outputs": [],
   "source": [
    "dealer_products.isna().sum()"
   ]
  },
  {
   "cell_type": "markdown",
   "id": "b7a4ef84",
   "metadata": {},
   "source": [
    "В столбце product_url имеются пропуски, исследуем его подробнее."
   ]
  },
  {
   "cell_type": "code",
   "execution_count": null,
   "id": "2d6eb5f8",
   "metadata": {},
   "outputs": [],
   "source": [
    "no_url = dealer_products[dealer_products['product_url'].isna()]['dealer_id'].unique()\n",
    "no_url"
   ]
  },
  {
   "cell_type": "code",
   "execution_count": null,
   "id": "0f183a6a",
   "metadata": {},
   "outputs": [],
   "source": [
    "dealers[dealers['id'] == no_url[0]]"
   ]
  },
  {
   "cell_type": "code",
   "execution_count": null,
   "id": "4fe02c67",
   "metadata": {},
   "outputs": [],
   "source": [
    "dealer_products[dealer_products['dealer_id'] == 7]"
   ]
  },
  {
   "cell_type": "markdown",
   "id": "76143fdf",
   "metadata": {},
   "source": [
    "Все имеющиеся в таблице пропуски относятся к дилеру под номером 7 - Комус."
   ]
  },
  {
   "cell_type": "code",
   "execution_count": null,
   "id": "8e2c7deb",
   "metadata": {},
   "outputs": [],
   "source": [
    "# Проверим длину названий продуктов для определения неявных пропусков.\n",
    "dealer_products['product_name'].str.len().min(), dealer_products['product_name'].str.len().max()"
   ]
  },
  {
   "cell_type": "code",
   "execution_count": null,
   "id": "79eae0da",
   "metadata": {},
   "outputs": [],
   "source": [
    "dealer_products[dealer_products['product_name'].str.len() == 8]"
   ]
  },
  {
   "cell_type": "code",
   "execution_count": null,
   "id": "3b7de605",
   "metadata": {},
   "outputs": [],
   "source": [
    "# проверим данные на дубликаты\n",
    "dealer_products.duplicated().sum()"
   ]
  },
  {
   "cell_type": "code",
   "execution_count": null,
   "id": "b56009e4",
   "metadata": {
    "scrolled": true
   },
   "outputs": [],
   "source": [
    "duplicates = dealer_products.duplicated()\n",
    "dealer_products[duplicates].sort_values(by='product_name').head(5)"
   ]
  },
  {
   "cell_type": "code",
   "execution_count": null,
   "id": "465447b6",
   "metadata": {
    "scrolled": false
   },
   "outputs": [],
   "source": [
    "# уберём дубликаты по столбцам: ключ, url и названию\n",
    "dealer_products.drop_duplicates(subset=['product_key', 'product_url', 'product_name'], inplace=True)"
   ]
  },
  {
   "cell_type": "code",
   "execution_count": null,
   "id": "f1d01f5f",
   "metadata": {},
   "outputs": [],
   "source": [
    "dealer_products.duplicated(subset=['product_key', 'product_url', 'product_name']).sum()"
   ]
  },
  {
   "cell_type": "code",
   "execution_count": null,
   "id": "e109191e",
   "metadata": {},
   "outputs": [],
   "source": [
    "# сбросим индексы\n",
    "dealer_products.reset_index(drop = True, inplace = True)"
   ]
  },
  {
   "cell_type": "markdown",
   "id": "b4cb29e6",
   "metadata": {},
   "source": [
    "В таблице `dealer_products` 20416 записей.  \n",
    "Имеются пропуски в столбце `product_url` - 234 записи и все для дилера с id 7 - Komus. Полных дублей в таблице нет, но есть повторяющиейся записи в зависимости от даты выгрузки. \n",
    "Все столбцы имеют правильный тип, кроме даты, в рамках проекта дату приводить к нужному формату нет необходимости.  \n",
    "Столбец `product_key` содержит данные в текстового типа, он состоит из ключей не только в виде числа, но и в виде ссылок на сайты с продуктами.   \n",
    "\n",
    "Столбец `product_name` является целевым: по нему будем находить соответствие продуктов из базы заказчика.  \n",
    "В названиях имеются как слова на кириллице, так и на латинице; есть специальные символы, единицы измерения разные: кг, л, мл; в некоторых названиях в конце указан код, состоящий из цифр и \"-\"; попадаются сокращения (например: дер. конструкций, д/удаления), в рамках одного названия встречаются буквы в разных регистрах."
   ]
  },
  {
   "cell_type": "code",
   "execution_count": null,
   "id": "abe10609",
   "metadata": {},
   "outputs": [],
   "source": [
    "# удалим лишний столбец 'Unnamed: 0'\n",
    "products = products.drop(['Unnamed: 0'], axis=1)"
   ]
  },
  {
   "cell_type": "code",
   "execution_count": null,
   "id": "a5c56cb6",
   "metadata": {},
   "outputs": [],
   "source": [
    "products.sample(5)"
   ]
  },
  {
   "cell_type": "code",
   "execution_count": null,
   "id": "8b8d75d6",
   "metadata": {},
   "outputs": [],
   "source": [
    "products.info()"
   ]
  },
  {
   "cell_type": "code",
   "execution_count": null,
   "id": "0a0b0d21",
   "metadata": {},
   "outputs": [],
   "source": [
    "products.nunique()"
   ]
  },
  {
   "cell_type": "code",
   "execution_count": null,
   "id": "f1987c1e",
   "metadata": {},
   "outputs": [],
   "source": [
    "# удалим столбец wb_article_td так как он содержит мало записей и не содержит важной информации.\n",
    "products.drop(['wb_article_td'], axis=1, inplace=True)"
   ]
  },
  {
   "cell_type": "code",
   "execution_count": null,
   "id": "02e8aae2",
   "metadata": {},
   "outputs": [],
   "source": [
    "products.isna().sum()"
   ]
  },
  {
   "cell_type": "code",
   "execution_count": null,
   "id": "bd837d9f",
   "metadata": {},
   "outputs": [],
   "source": [
    "mask = products['name'].isna()\n",
    "products[mask]"
   ]
  },
  {
   "cell_type": "code",
   "execution_count": null,
   "id": "7b221a12",
   "metadata": {},
   "outputs": [],
   "source": [
    "#удалим строки, где пропуски в названиии товара\n",
    "products.dropna(subset=['name'], inplace=True)\n",
    "products.reset_index(drop=True, inplace= True)"
   ]
  },
  {
   "cell_type": "code",
   "execution_count": null,
   "id": "1f630afa",
   "metadata": {},
   "outputs": [],
   "source": [
    "mask = products['cost'].isna()\n",
    "products[mask]"
   ]
  },
  {
   "cell_type": "code",
   "execution_count": null,
   "id": "7bcbe7e0",
   "metadata": {},
   "outputs": [],
   "source": [
    "products.duplicated().sum()"
   ]
  },
  {
   "cell_type": "code",
   "execution_count": null,
   "id": "7a95ffb8",
   "metadata": {},
   "outputs": [],
   "source": [
    "# изучим наименования продуктов детальнее\n",
    "products[['name', 'name_1c']].sample(5)"
   ]
  },
  {
   "cell_type": "markdown",
   "id": "b6e6d620",
   "metadata": {},
   "source": [
    "На первый взгляд в названиях из 1С меньше лишней или технической информации, меньше опечаток."
   ]
  },
  {
   "cell_type": "code",
   "execution_count": null,
   "id": "24b78ed2",
   "metadata": {},
   "outputs": [],
   "source": [
    "# проверим минимальную и максимальную длину названия\n",
    "products['name'].str.len().min(), products['name'].str.len().max()"
   ]
  },
  {
   "cell_type": "code",
   "execution_count": null,
   "id": "09be3775",
   "metadata": {},
   "outputs": [],
   "source": [
    "products[products['name'].str.len() == 3]\n",
    "# в данной строке отсутствует название, запись можно удалить"
   ]
  },
  {
   "cell_type": "code",
   "execution_count": null,
   "id": "5b2a2f07",
   "metadata": {
    "scrolled": true
   },
   "outputs": [],
   "source": [
    "i = products[products['name'].str.len() == 3].index\n",
    "products.drop(i, inplace = True)\n",
    "products.reset_index(drop = True, inplace = True)"
   ]
  },
  {
   "cell_type": "code",
   "execution_count": null,
   "id": "d3f0303f",
   "metadata": {},
   "outputs": [],
   "source": [
    "products.info()"
   ]
  },
  {
   "cell_type": "markdown",
   "id": "6a49e7fc",
   "metadata": {},
   "source": [
    "В таблице `products` 496 записей.  \n",
    "Имеются 2 записи, где отсутствует большая часть информации.  \n",
    "Для товаров *Герметик акриловой цвет Белый, 7 кг; Герметик акриловый цвет Медовый 0,6 л (12 шт); Герметик акриловый цвет Орех, ф/п 600мл (12 штук)* отсутствуют стоимость и рекомендованная цена.\n",
    "Дубликаты отсутствуют.  \n",
    "\n",
    "Для построения модели мэчинга можем использовать данные в столбце `name` или `name_1c`, всего имеется 487 уникальных наименований.\n",
    "В названиях имеются опечатки, лишние пробелы, специальные символы, иногда отсутствуют пробелы между словами: часто сливаются слова на кириллице и латинице. В части продуктов указана рекомендуемая концентрация, для некоторых продуктов указан вес (в кг.), а для других объём (в мл. или л.). Концентрация, вес или количество обычно указываются в конце названия. В рамках одного названия встречаются буквы в разных регистрах. Максимальная длина наименования продукта 136 символов, минимальная - 30."
   ]
  },
  {
   "cell_type": "code",
   "execution_count": null,
   "id": "9bd31c7e",
   "metadata": {},
   "outputs": [],
   "source": [
    "# удалим лишний столбец 'Unnamed: 0'\n",
    "match = match.drop(['id'], axis = 1)"
   ]
  },
  {
   "cell_type": "code",
   "execution_count": null,
   "id": "f210ec01",
   "metadata": {},
   "outputs": [],
   "source": [
    "match.sample(5)"
   ]
  },
  {
   "cell_type": "code",
   "execution_count": null,
   "id": "a40f77a1",
   "metadata": {},
   "outputs": [],
   "source": [
    "match.info()"
   ]
  },
  {
   "cell_type": "code",
   "execution_count": null,
   "id": "86478b14",
   "metadata": {},
   "outputs": [],
   "source": [
    "match.nunique()"
   ]
  },
  {
   "cell_type": "code",
   "execution_count": null,
   "id": "83966c03",
   "metadata": {},
   "outputs": [],
   "source": [
    "match.sort_values(by='key', ascending=False)"
   ]
  },
  {
   "cell_type": "code",
   "execution_count": null,
   "id": "e7a96941",
   "metadata": {},
   "outputs": [],
   "source": [
    "match.duplicated().sum()"
   ]
  },
  {
   "cell_type": "markdown",
   "id": "d98b2e02",
   "metadata": {},
   "source": [
    "В таблице `match` 1700 записей, кол-во уникальных id дилеров совпадает с количеством в таблице `dealers`. Пропусков нет, дубликатов тоже. Столбец `key` имеет текстовый формат, в нём есть записи не только уникальных ключей, но и url продуктов.  \n",
    "Данная таблица может пригодиться, когда будем оценивать эффективность мэтчинга."
   ]
  },
  {
   "cell_type": "markdown",
   "id": "75daecb7",
   "metadata": {},
   "source": [
    "## Предобработка названий"
   ]
  },
  {
   "cell_type": "code",
   "execution_count": null,
   "id": "91cff0b2",
   "metadata": {},
   "outputs": [],
   "source": [
    "# заполним пропуски в name_1c данными из столбца name\n",
    "products['name_1c'].fillna(products['name'], inplace=True)"
   ]
  },
  {
   "cell_type": "markdown",
   "id": "898d0f1b",
   "metadata": {},
   "source": [
    "В дальнейшем будем работать со столбцами `1c_name` из таблицы `products` и `product_name` из `dealer_products`.\n",
    "Необходимо произвести предобработку текста, чтобы названия в обеих таблицах были наиболее схожи, для этого необходимо:\n",
    "1. убрать лишние пробелы\n",
    "2. привести к нижнему регистру\n",
    "3. добавить пробелы между русскими словами и английскими: как до, так и после\n",
    "4. убрать концентрацию, оставить только объём/вес\n",
    "5. убрать стоп-слова"
   ]
  },
  {
   "cell_type": "code",
   "execution_count": null,
   "id": "a8fb40b1",
   "metadata": {},
   "outputs": [],
   "source": [
    "# функция для базовой обработки текста\n",
    "def clean_text(text):\n",
    "    #добавляем пробелы между русскими и английскими словами\n",
    "    #pattern = re.compile(r'(?<=[а-яА-Я])(?=[a-zA-Z])|(?<=[a-zA-Z])(?=[а-яА-Я])')\n",
    "    text = re.sub(r'(?<=[а-яА-Я])(?=[a-zA-Z])|(?<=[a-zA-Z])(?=[а-яА-Я])', ' ', text)\n",
    "    #убираем указание концентрации\n",
    "    #pattern2 = re.compile(r'\\b\\d+:\\d+\\s*-\\s*\\d+:\\d+\\b|\\s*\\d+:\\d+\\s*')\n",
    "    text = re.sub(r'\\b\\d+:\\d+\\s*-\\s*\\d+:\\d+\\b|\\s*\\d+:\\d+\\s*', '', text)\n",
    "    #убираем специальные символы\n",
    "    remove = string.punctuation\n",
    "    #remove = remove.replace(\"-\", \"\") # не убираем дефисы\n",
    "    text = re.sub('[%s]' % re.escape(remove), ' ', text)\n",
    "    # убираем лишние пробелы между словами\n",
    "    text = re.sub(r'\\s+', ' ', text)\n",
    "    #приводим все слова к нижнему регистру\n",
    "    #text = text.lower()\n",
    "    return text\n",
    "\n",
    "# функция убирает служебные слова и лемматизирует текст\n",
    "def preprocess_text(text):\n",
    "    # удаление одиноко стоящих слов\n",
    "    #text = re.sub(r'\\s+[a-zA-Zа-яА-Я0-9]\\s+', ' ', text)\n",
    "    #Очистка текста \n",
    "    text = re.sub(r\"[^a-zA-Zа-яА-ЯёЁ ]\", ' ', text)\n",
    "    #doc = nlp(text)\n",
    "    #токенизация, лемматизация \n",
    "    tokens = word_tokenize(text.lower())\n",
    "    lemmatizer = WordNetLemmatizer()\n",
    "    lemmas = [lemmatizer.lemmatize(token) for token in tokens]\n",
    "    #удаление стоп-слов\n",
    "    stop_words = set(stopwords.words('russian') + stopwords.words('english'))\n",
    "    lemmas_clean = [lemma for lemma in lemmas if lemma not in stop_words]\n",
    "    #tokens = [token.lemma_ for token in doc]\n",
    "    #tokens = [token for token in tokens if token not in stop_words and token != \" \"]\n",
    "    #text = \" \".join(tokens)\n",
    "    return \" \".join(lemmas_clean)\n",
    "\n",
    "# функция выделеяет единицы измерения из текста\n",
    "def extract_measure(text):\n",
    "    measurements = []\n",
    "    pattern = r'\\s*(\\d+(?:[,.]\\d+)?)\\s?[л|мл|кг]+'\n",
    "    match = re.search(pattern, text)\n",
    "    if match:\n",
    "        measurements =  match.group(1)\n",
    "        text = text.replace(pattern, '')\n",
    "        text = text.replace(' ', '')\n",
    "    else:\n",
    "        measurements = 0\n",
    "        text = text.replace(pattern, '')\n",
    "        text = text.replace(' ', '')\n",
    "    return measurements\n",
    "\n",
    "# функция вовращает список длин\n",
    "def get_text_length(x):\n",
    "    return np.array([len(t) for t in x]).reshape(-1, 1)"
   ]
  },
  {
   "cell_type": "code",
   "execution_count": null,
   "id": "430e2771",
   "metadata": {
    "scrolled": true
   },
   "outputs": [],
   "source": [
    "# создадим столбцы с единицами измерения товара в обеих таблицах\n",
    "products['measures'] = products['name_1c'].apply(extract_measure)\n",
    "products['measures'] = products['measures'].str.replace(',', '.')\n",
    "products['measures'].fillna(0, inplace=True)\n",
    "products['measures'] = products['measures'].astype(float)\n",
    "\n",
    "dealer_products['measures'] = dealer_products['product_name'].apply(extract_measure)\n",
    "dealer_products['measures'] = dealer_products['measures'].str.replace(',', '.')\n",
    "dealer_products['measures'].fillna(0, inplace=True)\n",
    "dealer_products['measures'] = dealer_products['measures'].astype(float)"
   ]
  },
  {
   "cell_type": "code",
   "execution_count": null,
   "id": "63108c4a",
   "metadata": {},
   "outputs": [],
   "source": [
    "products.sample(5)"
   ]
  },
  {
   "cell_type": "code",
   "execution_count": null,
   "id": "2fde7b06",
   "metadata": {},
   "outputs": [],
   "source": [
    "#создадим столбцы с длиной названия товара\n",
    "products['name_length'] = get_text_length(np.array(products['name_1c']))\n",
    "dealer_products['name_length'] = get_text_length(np.array(dealer_products['product_name']))"
   ]
  },
  {
   "cell_type": "code",
   "execution_count": null,
   "id": "736af294",
   "metadata": {},
   "outputs": [],
   "source": [
    "%%time\n",
    "# создадим новый столбец marketing_name - он включает в себя все названия из 1с\n",
    "products['marketing_name'] = products['name_1c'].apply(clean_text)\n",
    "#pattern = r'\\b(\\d+)\\s?[л|мл|кг]+'\n",
    "products['marketing_name'] = products['marketing_name'].str.replace(r'\\b(\\d+)\\s?[л|мл|кг]+', '')"
   ]
  },
  {
   "cell_type": "code",
   "execution_count": null,
   "id": "164d124a",
   "metadata": {},
   "outputs": [],
   "source": [
    "products[['name_1c','marketing_name']].sample(3)"
   ]
  },
  {
   "cell_type": "code",
   "execution_count": null,
   "id": "9a136e1e",
   "metadata": {},
   "outputs": [],
   "source": [
    "%%time\n",
    "# лемматизируем текст\n",
    "#nlp = spacy.load(\"ru_core_news_lg\")\n",
    "products['marketing_name'] = products['marketing_name'].apply(preprocess_text)"
   ]
  },
  {
   "cell_type": "code",
   "execution_count": null,
   "id": "6a51073d",
   "metadata": {},
   "outputs": [],
   "source": [
    "products[['name_1c','marketing_name']].sample(3,random_state=1)"
   ]
  },
  {
   "cell_type": "code",
   "execution_count": null,
   "id": "23c85703",
   "metadata": {},
   "outputs": [],
   "source": [
    "dealer_products['product_name'].head()"
   ]
  },
  {
   "cell_type": "code",
   "execution_count": null,
   "id": "2a1b3a52",
   "metadata": {},
   "outputs": [],
   "source": [
    "%%time\n",
    "# аналогичным образом обработаем столбец product_name\n",
    "dealer_products['dealer_name'] = dealer_products['product_name'].apply(clean_text)\n",
    "dealer_products['dealer_name'] = dealer_products['dealer_name'].str.replace(r'\\b(\\d+)\\s?[л|мл|кг]+', '')\n",
    "dealer_products['dealer_name'].head()"
   ]
  },
  {
   "cell_type": "code",
   "execution_count": null,
   "id": "9bdd959b",
   "metadata": {},
   "outputs": [],
   "source": [
    "%%time\n",
    "dealer_products['dealer_name'] = dealer_products['dealer_name'].apply(preprocess_text)\n",
    "dealer_products['dealer_name'].head()"
   ]
  },
  {
   "cell_type": "code",
   "execution_count": null,
   "id": "d0eb1795",
   "metadata": {},
   "outputs": [],
   "source": [
    "# объединим id, marketing_name, product_key, dealer_name с таблицей match\n",
    "match_products = match[['key', 'product_id']].merge(\n",
    "    products[['id', 'marketing_name']],  how='left', right_on='id', left_on='product_id')\n",
    "\n",
    "# к датасету с названиями диллеров присоединим названия производителя \n",
    "df = dealer_products[['product_key', 'dealer_name']].merge(\n",
    "    match_products, how='left', right_on='key', left_on='product_key').drop(['product_id', 'product_key'], axis=1)\n",
    "\n",
    "df = df.dropna().reset_index(drop=True)\n",
    "df"
   ]
  },
  {
   "cell_type": "markdown",
   "id": "fcffdd28",
   "metadata": {},
   "source": [
    "## Векторизация текста и поиск мэтчей"
   ]
  },
  {
   "cell_type": "markdown",
   "id": "b299203e",
   "metadata": {},
   "source": [
    "### SBERT"
   ]
  },
  {
   "cell_type": "code",
   "execution_count": null,
   "id": "a2e53072",
   "metadata": {},
   "outputs": [],
   "source": [
    "# %%time\n",
    "# model = SentenceTransformer('all-MiniLM-L6-v2')\n",
    "\n",
    "# products = list(df['marketing_name'])\n",
    "# dealers = df['dealer_name']\n",
    "# prod_embeddings = model.encode(products)\n",
    "# deal_embeddings = model.encode(dealers)"
   ]
  },
  {
   "cell_type": "code",
   "execution_count": null,
   "id": "6ea1c2ba",
   "metadata": {},
   "outputs": [],
   "source": [
    "# top_k = 5\n",
    "# cos_scores = util.cos_sim(deal_embeddings, prod_embeddings)\n",
    "# top_results = torch.topk(cos_scores, k=top_k)\n",
    "# print(\"Cosine-Similarity:\", cos_sim)"
   ]
  },
  {
   "cell_type": "code",
   "execution_count": null,
   "id": "b62a6758",
   "metadata": {
    "scrolled": true
   },
   "outputs": [],
   "source": [
    "# x = util.semantic_search(prod_embeddings, deal_embeddings, top_k = top_k)\n",
    "# x"
   ]
  },
  {
   "cell_type": "code",
   "execution_count": null,
   "id": "553bad8c",
   "metadata": {
    "scrolled": true
   },
   "outputs": [],
   "source": [
    "# match_key = []\n",
    "# metrics = []\n",
    "# for i in range(len(x[:3])):\n",
    "#     for k in range(top_k):\n",
    "#         match_key.append(df.iloc[x[i][k]['corpus_id'],:]['id'])\n",
    "#         if df.iloc[i]['id'] in match_key[0]:\n",
    "#             print('yes')"
   ]
  },
  {
   "cell_type": "code",
   "execution_count": null,
   "id": "b86da6e7",
   "metadata": {},
   "outputs": [],
   "source": [
    "# for query in dealers:\n",
    "#     # We use cosine-similarity and torch.topk to find the highest 5 scores\n",
    "#     cos_scores = util.cos_sim(query_embedding, corpus_embeddings)[0]\n",
    "#     top_results = torch.topk(cos_scores, k=top_k)\n",
    "\n",
    "#     print(\"\\n\\n======================\\n\\n\")\n",
    "#     print(\"Query:\", query)\n",
    "#     print(\"\\nTop 5 most similar sentences in corpus:\")\n",
    "\n",
    "#     for score, idx in zip(top_results[0], top_results[1]):\n",
    "#         print(corpus[idx], \"(Score: {:.4f})\".format(score))"
   ]
  },
  {
   "cell_type": "code",
   "execution_count": null,
   "id": "72685907",
   "metadata": {
    "scrolled": true
   },
   "outputs": [],
   "source": [
    "# for i in range(len(x)):\n",
    "#     print('===================')\n",
    "#     print(f\"Запрос: {df['dealer_name'][i]}\")\n",
    "#     print('===================')\n",
    "#     for k in range(3):\n",
    "#         #print(sentences[x[i][k]['corpus_id']])\n",
    "#         print(f\"Название продукта: {df['marketing_name'][x[i][k]['corpus_id']]}, оценка: {x[i][k]['score']}\")"
   ]
  },
  {
   "cell_type": "code",
   "execution_count": null,
   "id": "188bdc7b",
   "metadata": {},
   "outputs": [],
   "source": [
    "# matches = []\n",
    "\n",
    "# for col in set(match_df.columns):\n",
    "        \n",
    "#     top_cands = match_df.loc[:, col].sort_values(ascending=True)[:top].index.tolist()\n",
    "#     product_key = ''.join(col.split('_')[:-1])\n",
    "    \n",
    "#     # print(product_key)\n",
    "    \n",
    "#     if  match.loc[match['key'] == product_key].shape[0] == 0:\n",
    "#         matches.append(0)\n",
    "#         continue\n",
    "        \n",
    "#     match_id = match.loc[match['key'] == product_key, 'product_id'].values[0]\n",
    "#     if match_id in top_cands:\n",
    "#         matches.append(1)\n",
    "#     else:\n",
    "#         matches.append(0)\n",
    "        \n",
    "# print(f'Значение метрики Accuracy@{top_k} рекомендаций: {np.mean(matches)}')"
   ]
  },
  {
   "cell_type": "markdown",
   "id": "58f4237d",
   "metadata": {},
   "source": [
    "### Вариант2: "
   ]
  },
  {
   "cell_type": "code",
   "execution_count": null,
   "id": "092ca038",
   "metadata": {},
   "outputs": [],
   "source": [
    "#Создадим словарь,где ключом являются id продукта, а значением - название\n",
    "#marketing_name = pd.Series(products['marketing_name'].values, index=products['id']).to_dict()\n",
    "# marketing_name = pd.Series(products['name_1c'].values, index=products['id']).to_dict()\n",
    "# marketing_name"
   ]
  },
  {
   "cell_type": "code",
   "execution_count": null,
   "id": "adb8dded",
   "metadata": {},
   "outputs": [],
   "source": [
    "#Создадим словарь,где ключом являются product_key дилера, а значением - название у дилера\n",
    "#dealer_name = pd.Series(dealer_products['dealer_name'].values, index=dealer_products['product_key']).to_dict()\n",
    "# dealer_name = pd.Series(dealer_products['product_name'].values, index=dealer_products['product_key']).to_dict()\n",
    "# dealer_name"
   ]
  },
  {
   "cell_type": "code",
   "execution_count": null,
   "id": "20a257b5",
   "metadata": {},
   "outputs": [],
   "source": [
    "%%time\n",
    "model = SentenceTransformer('all-MiniLM-L6-v2')\n",
    "#model = SentenceTransformer('distilbert-base-nli-mean-tokens') \n",
    "\n",
    "rows = df['marketing_name'].values\n",
    "columns = df['dealer_name'].values\n",
    "market_names = model.encode(rows)\n",
    "dealer_names = model.encode(columns)"
   ]
  },
  {
   "cell_type": "code",
   "execution_count": null,
   "id": "7a9d17d4",
   "metadata": {},
   "outputs": [],
   "source": [
    "# # дополним векторы названий данными об объёме/весе и длине строки\n",
    "# X1 = pd.DataFrame(market_names)\n",
    "# X1['measures'] = products['measures']\n",
    "# X1['name_length'] = products['name_length']\n",
    "\n",
    "# X2 = pd.DataFrame(dealer_names)\n",
    "# X2['measures'] = dealer_products['measures']\n",
    "# X2['name_length'] = dealer_products['name_length']\n",
    "\n",
    "# # # отмасштабируем данные\n",
    "# numeric = ['measures', 'name_length']\n",
    "# scaler = MinMaxScaler()\n",
    "\n",
    "# scaler.fit(X1[numeric])\n",
    "# X1[numeric] = scaler.transform(X1[numeric])\n",
    "\n",
    "# scaler.fit(X2[numeric])\n",
    "# X2[numeric] = scaler.transform(X2[numeric])\n",
    "\n",
    "# # # преобразуем данные в разряженную матрицу\n",
    "# X1_sparse = sparse.csr_matrix(X1.values)\n",
    "# X2_sparse = sparse.csr_matrix(X2.values)"
   ]
  },
  {
   "cell_type": "code",
   "execution_count": null,
   "id": "4889e419",
   "metadata": {},
   "outputs": [],
   "source": [
    "#создадим матрицу соответствий названий\n",
    "# data = pairwise_distances(X1_sparse, X2_sparse, metric = 'cosine')\n",
    "# match_df = pd.DataFrame(index = products['name_1c'], columns = dealer_products['product_name'], data=data)\n",
    "# match_df\n",
    "\n",
    "data = pairwise_distances(market_names, dealer_names, metric = 'cosine')\n",
    "match_df = pd.DataFrame(index = products['id'], \n",
    "                        columns = dealer_products['product_key']+ '_' + pd.Series(range(dealer_products.shape[0])).astype(str), \n",
    "                        data=data)\n",
    "match_df"
   ]
  },
  {
   "cell_type": "code",
   "execution_count": null,
   "id": "9bfe4bed",
   "metadata": {},
   "outputs": [],
   "source": [
    "# рассчитаем Accuracy@k для оценки качества мэтчинга\n",
    "top_k = 5\n",
    "matches = []\n",
    "\n",
    "for col in set(match_df.columns):\n",
    "        \n",
    "    top_cands = match_df.loc[:, col].sort_values(ascending=True)[:top_k].index.tolist()\n",
    "    product_key = ''.join(col.split('_')[:-1])\n",
    "    \n",
    "    if  match.loc[match['key'] == product_key].shape[0] == 0:\n",
    "        matches.append(0)\n",
    "        continue\n",
    "        \n",
    "    match_id = match.loc[match['key'] == product_key, 'product_id'].values[0]\n",
    "    if match_id in top_cands:\n",
    "        matches.append(1)\n",
    "    else:\n",
    "        matches.append(0)\n",
    "        \n",
    "np.mean(matches)"
   ]
  },
  {
   "cell_type": "markdown",
   "id": "e33ec984",
   "metadata": {},
   "source": [
    "### Вариант 3"
   ]
  },
  {
   "cell_type": "code",
   "execution_count": null,
   "id": "df3779de",
   "metadata": {},
   "outputs": [],
   "source": [
    "# from sklearn.pipeline import Pipeline, FeatureUnion\n",
    "# from sklearn.feature_extraction.text import CountVectorizer\n",
    "# from sklearn.svm import LinearSVC\n",
    "# from sklearn.feature_extraction.text import TfidfVectorizer, TfidfTransformer\n",
    "# from sklearn.preprocessing import FunctionTransformer\n",
    "# from collections import defaultdict\n",
    "\n",
    "# def get_text_length(x):\n",
    "#     return np.array([len(t) for t in x]).reshape(-1, 1)"
   ]
  },
  {
   "cell_type": "code",
   "execution_count": null,
   "id": "d526d51d",
   "metadata": {},
   "outputs": [],
   "source": [
    "# %%time\n",
    "# corpus = pd.concat([products['marketing_name'], dealer_products['dealer_name']], axis = 0)\n",
    "# count_tf_idf = TfidfVectorizer()\n",
    "# corpus_vect = count_tf_idf.fit(corpus)\n",
    "# df_1 = count_tf_idf.transform(products['marketing_name'])\n",
    "# df_2 = count_tf_idf.transform(dealer_products['dealer_name'])"
   ]
  },
  {
   "cell_type": "code",
   "execution_count": null,
   "id": "20195766",
   "metadata": {},
   "outputs": [],
   "source": [
    "# df_1 = df_1.todense() #df_1.toarray()\n",
    "# df_2 = df_2.todense() #df_2.toarray()"
   ]
  },
  {
   "cell_type": "code",
   "execution_count": null,
   "id": "15bf5443",
   "metadata": {},
   "outputs": [],
   "source": [
    "# matr = pd.DataFrame(data = pairwise_distances(df_1, df_2, 'cosine'), \n",
    "#              index = products['id'], \n",
    "#              columns = dealer_products['product_name'])"
   ]
  },
  {
   "cell_type": "code",
   "execution_count": null,
   "id": "8d7832b1",
   "metadata": {},
   "outputs": [],
   "source": [
    "# pipe = Pipeline([('count', CountVectorizer(ngram_range= (1,2))),\n",
    "#                  ('tfid', TfidfTransformer())]).fit(corpus)\n",
    "# X = pipe['count'].transform(corpus).toarray()\n",
    "# X = pipe['tfid'].idf_\n",
    "# X = pipe.transform(corpus)\n",
    "# X"
   ]
  }
 ],
 "metadata": {
  "kernelspec": {
   "display_name": "Python 3 (ipykernel)",
   "language": "python",
   "name": "python3"
  },
  "language_info": {
   "codemirror_mode": {
    "name": "ipython",
    "version": 3
   },
   "file_extension": ".py",
   "mimetype": "text/x-python",
   "name": "python",
   "nbconvert_exporter": "python",
   "pygments_lexer": "ipython3",
   "version": "3.9.12"
  }
 },
 "nbformat": 4,
 "nbformat_minor": 5
}
