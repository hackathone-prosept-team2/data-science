{
 "cells": [
  {
   "cell_type": "code",
   "execution_count": 1,
   "id": "32d8bbd5",
   "metadata": {},
   "outputs": [],
   "source": [
    "import pandas as pd\n",
    "import numpy as np\n",
    "import os\n",
    "import re\n",
    "import string\n",
    "#from sentence_transformers import SentenceTransformer, util\n",
    "import nltk\n",
    "from nltk.corpus import stopwords\n",
    "from nltk.tokenize import word_tokenize\n",
    "from nltk.stem import WordNetLemmatizer\n",
    "from sklearn.feature_extraction.text import TfidfVectorizer\n",
    "from sklearn.metrics import pairwise_distances\n",
    "import spacy\n",
    "import warnings\n",
    "warnings.filterwarnings('ignore')\n",
    "pd.set_option('display.max_rows', 100)\n",
    "pd.set_option('display.max_columns', 20)\n",
    "pd.set_option('display.max_colwidth', 500)"
   ]
  },
  {
   "cell_type": "markdown",
   "id": "013e27db",
   "metadata": {},
   "source": [
    "## Заказчик<br>\n",
    "ООО «ПРОСЕПТ» — российская производственная компания, специализирующаяся на выпуске профессиональной химии. В своей работе используют опыт ведущих мировых производителей и сырье крупнейших химических концернов. Производство и логистический центр расположены в непосредственной близости от Санкт-Петербурга, откуда продукция компании поставляется во все регионы России.\n",
    "\n",
    "Сайт: https://prosept.ru/\n",
    "\n",
    "## Описание проекта\n",
    "Заказчик производит несколько сотен различных товаров бытовой и промышленной химии, а затем продаёт эти товары через дилеров. Дилеры, в свою очередь, занимаются розничной продажей товаров в крупных сетях магазинов и на онлайн площадках.\n",
    "Для оценки ситуации,  управления ценами и  бизнесом в целом, заказчик периодически собирает информацию о том, как дилеры продают их товар. Для этого они парсят сайты дилеров, а затем сопоставляют товары и цены.\n",
    "Зачастую описание товаров на сайтах дилеров отличаются от того описания, что даёт заказчик. Например, могут добавляться новый слова (“универсальный”, “эффективный”), объём (0.6 л -> 600 мл). Поэтому сопоставление товаров дилеров с товарами производителя делается вручную.\n",
    "\n",
    "**Цель этого проекта**- разработка решения, которое отчасти автоматизирует процесс сопоставления товаров.<br> **Основная идея** - предлагать несколько товаров заказчика, которые с наибольшей вероятностью соответствуют размечаемому товару дилера. \n",
    "Предлагается реализовать это решение, как онлайн сервис, открываемый в веб-браузере. Выбор наиболее вероятных подсказок делается методами машинного обучения.\n"
   ]
  },
  {
   "cell_type": "markdown",
   "id": "299963d9",
   "metadata": {},
   "source": [
    "# Задача ML:\n",
    "    -Разработка рекомендательной модели на основе данных о товарах.\n",
    "    -Интеграция модели с бэкендом для предоставления вариантов соответствия.\n",
    "    -Тестирование и оптимизация модели для достижения высокой точности.\n"
   ]
  },
  {
   "cell_type": "markdown",
   "id": "121e4921",
   "metadata": {},
   "source": [
    "## Описание данных\n",
    "Заказчик предоставил несколько таблиц (дамп БД), содержащих необходимые данные:   \n",
    "\n",
    "1.\t**marketing_dealer - список дилеров** \n",
    "\n",
    "2.\t**marketing_dealerprice - результат работы парсера площадок дилеров**  \n",
    "-\tproduct_key - уникальный номер позиции  \n",
    "-\tprice - цена  \n",
    "-\tproduct_url - адрес страницы, откуда собраны данные  \n",
    "-\tproduct_name - заголовок продаваемого товара  \n",
    "-\tdate - дата получения информации  \n",
    "-\tdealer_id - идентификатор дилера (внешний ключ к marketing_dealer)  \n",
    "   \n",
    "3.\t**marketing_product - список товаров, которые производит и распространяет заказчик**      \n",
    "-\tarticle - артикул товара  \n",
    "-\tean_13 - код товара (см. EAN 13)    \n",
    "-\tname - название товара    \n",
    "-\tcost - стоимость    \n",
    "-\tmin_recommended_price - рекомендованная минимальная цена  \n",
    "-\trecommended_price - рекомендованная цена  \n",
    "-\tcategory_id - категория товара  \n",
    "-\tozon_name - названиет товара на Озоне    \n",
    "-\tname_1c - название товара в 1C    \n",
    "-\twb_name - название товара на Wildberries    \n",
    "-\tozon_article - описание для Озон    \n",
    "-\twb_article - артикул для Wildberries    \n",
    "-\tym_article - артикул для Яндекс.Маркета    \n",
    "\n",
    "4.\t**marketing_productdealerkey - таблица матчинга товаров заказчика и товаров дилеров**  \n",
    "-\tkey - внешний ключ к marketing_dealerprice  \n",
    "-\tproduct_id - внешний ключ к marketing_product  \n",
    "-\tdealer_id - внешний ключ к marketing_dealer  "
   ]
  },
  {
   "cell_type": "markdown",
   "id": "6f817572",
   "metadata": {},
   "source": [
    "# Чтение и исследовательский анализ данных:"
   ]
  },
  {
   "cell_type": "code",
   "execution_count": null,
   "id": "37811109",
   "metadata": {},
   "outputs": [],
   "source": [
    "path = '../Хакатон/данные/'"
   ]
  },
  {
   "cell_type": "code",
   "execution_count": null,
   "id": "2fa8ecc9",
   "metadata": {},
   "outputs": [],
   "source": [
    "os.listdir('../Хакатон/данные')"
   ]
  },
  {
   "cell_type": "markdown",
   "id": "4268ce16",
   "metadata": {},
   "source": [
    "### marketing_dealer - список дилеров"
   ]
  },
  {
   "cell_type": "code",
   "execution_count": 2,
   "id": "e4dd1446",
   "metadata": {},
   "outputs": [],
   "source": [
    "marketing_dealer = pd.read_csv(path + 'marketing_dealer.csv', engine='python', sep = ';')"
   ]
  },
  {
   "cell_type": "code",
   "execution_count": 3,
   "id": "6496da1e",
   "metadata": {},
   "outputs": [
    {
     "data": {
      "text/html": [
       "<div>\n",
       "<style scoped>\n",
       "    .dataframe tbody tr th:only-of-type {\n",
       "        vertical-align: middle;\n",
       "    }\n",
       "\n",
       "    .dataframe tbody tr th {\n",
       "        vertical-align: top;\n",
       "    }\n",
       "\n",
       "    .dataframe thead th {\n",
       "        text-align: right;\n",
       "    }\n",
       "</style>\n",
       "<table border=\"1\" class=\"dataframe\">\n",
       "  <thead>\n",
       "    <tr style=\"text-align: right;\">\n",
       "      <th></th>\n",
       "      <th>id</th>\n",
       "      <th>name</th>\n",
       "    </tr>\n",
       "  </thead>\n",
       "  <tbody>\n",
       "    <tr>\n",
       "      <th>0</th>\n",
       "      <td>1</td>\n",
       "      <td>Moi_vibor_WB</td>\n",
       "    </tr>\n",
       "    <tr>\n",
       "      <th>1</th>\n",
       "      <td>2</td>\n",
       "      <td>Akson</td>\n",
       "    </tr>\n",
       "    <tr>\n",
       "      <th>2</th>\n",
       "      <td>3</td>\n",
       "      <td>Bafus</td>\n",
       "    </tr>\n",
       "    <tr>\n",
       "      <th>14</th>\n",
       "      <td>4</td>\n",
       "      <td>Baucenter</td>\n",
       "    </tr>\n",
       "    <tr>\n",
       "      <th>3</th>\n",
       "      <td>5</td>\n",
       "      <td>Castorama</td>\n",
       "    </tr>\n",
       "    <tr>\n",
       "      <th>4</th>\n",
       "      <td>6</td>\n",
       "      <td>Cubatora</td>\n",
       "    </tr>\n",
       "    <tr>\n",
       "      <th>5</th>\n",
       "      <td>7</td>\n",
       "      <td>Komus</td>\n",
       "    </tr>\n",
       "    <tr>\n",
       "      <th>15</th>\n",
       "      <td>8</td>\n",
       "      <td>Leroy_Merlin</td>\n",
       "    </tr>\n",
       "    <tr>\n",
       "      <th>6</th>\n",
       "      <td>9</td>\n",
       "      <td>Megastroy</td>\n",
       "    </tr>\n",
       "    <tr>\n",
       "      <th>7</th>\n",
       "      <td>10</td>\n",
       "      <td>OnlineTrade</td>\n",
       "    </tr>\n",
       "    <tr>\n",
       "      <th>8</th>\n",
       "      <td>11</td>\n",
       "      <td>Petrovich</td>\n",
       "    </tr>\n",
       "    <tr>\n",
       "      <th>9</th>\n",
       "      <td>12</td>\n",
       "      <td>sdvor</td>\n",
       "    </tr>\n",
       "    <tr>\n",
       "      <th>10</th>\n",
       "      <td>13</td>\n",
       "      <td>simaLand</td>\n",
       "    </tr>\n",
       "    <tr>\n",
       "      <th>11</th>\n",
       "      <td>14</td>\n",
       "      <td>VegosM</td>\n",
       "    </tr>\n",
       "    <tr>\n",
       "      <th>12</th>\n",
       "      <td>15</td>\n",
       "      <td>Vse_instrumeni</td>\n",
       "    </tr>\n",
       "    <tr>\n",
       "      <th>13</th>\n",
       "      <td>16</td>\n",
       "      <td>Vimos</td>\n",
       "    </tr>\n",
       "    <tr>\n",
       "      <th>17</th>\n",
       "      <td>17</td>\n",
       "      <td>Unicleaner_OZON</td>\n",
       "    </tr>\n",
       "    <tr>\n",
       "      <th>16</th>\n",
       "      <td>18</td>\n",
       "      <td>Мasterstroy_spb_OZON\\r\\n</td>\n",
       "    </tr>\n",
       "  </tbody>\n",
       "</table>\n",
       "</div>"
      ],
      "text/plain": [
       "    id                      name\n",
       "0    1              Moi_vibor_WB\n",
       "1    2                     Akson\n",
       "2    3                     Bafus\n",
       "14   4                 Baucenter\n",
       "3    5                 Castorama\n",
       "4    6                  Cubatora\n",
       "5    7                     Komus\n",
       "15   8              Leroy_Merlin\n",
       "6    9                 Megastroy\n",
       "7   10               OnlineTrade\n",
       "8   11                 Petrovich\n",
       "9   12                     sdvor\n",
       "10  13                  simaLand\n",
       "11  14                    VegosM\n",
       "12  15            Vse_instrumeni\n",
       "13  16                     Vimos\n",
       "17  17           Unicleaner_OZON\n",
       "16  18  Мasterstroy_spb_OZON\\r\\n"
      ]
     },
     "execution_count": 3,
     "metadata": {},
     "output_type": "execute_result"
    }
   ],
   "source": [
    "marketing_dealer.sort_values(by='id')"
   ]
  },
  {
   "cell_type": "markdown",
   "id": "3fefafcc",
   "metadata": {},
   "source": [
    "Имеем 18 айдишников от 1 до 18"
   ]
  },
  {
   "cell_type": "markdown",
   "id": "3bcd057a",
   "metadata": {},
   "source": [
    "**marketing_dealerprice - результат работы парсера площадок дилеров**:\n",
    "   -\tproduct_key - уникальный номер позиции;\n",
    "   -\tprice - цена;\n",
    "   -\tproduct_url - адрес страницы, откуда собраны данные;\n",
    "   -\tproduct_name - заголовок продаваемого товара;\n",
    "   -\tdate - дата получения информации;\n",
    "   -\tdealer_id - идентификатор дилера (внешний ключ к marketing_dealer)"
   ]
  },
  {
   "cell_type": "code",
   "execution_count": 4,
   "id": "c5f06b14",
   "metadata": {},
   "outputs": [],
   "source": [
    "marketing_dealerprice = pd.read_csv(path +'marketing_dealerprice.csv', engine='python', sep = ';')"
   ]
  },
  {
   "cell_type": "code",
   "execution_count": 5,
   "id": "3b21a547",
   "metadata": {},
   "outputs": [
    {
     "name": "stdout",
     "output_type": "stream",
     "text": [
      "<class 'pandas.core.frame.DataFrame'>\n",
      "RangeIndex: 20416 entries, 0 to 20415\n",
      "Data columns (total 7 columns):\n",
      " #   Column        Non-Null Count  Dtype  \n",
      "---  ------        --------------  -----  \n",
      " 0   id            20416 non-null  int64  \n",
      " 1   product_key   20416 non-null  object \n",
      " 2   price         20416 non-null  float64\n",
      " 3   product_url   20182 non-null  object \n",
      " 4   product_name  20416 non-null  object \n",
      " 5   date          20416 non-null  object \n",
      " 6   dealer_id     20416 non-null  int64  \n",
      "dtypes: float64(1), int64(2), object(4)\n",
      "memory usage: 1.1+ MB\n"
     ]
    }
   ],
   "source": [
    "marketing_dealerprice.info()"
   ]
  },
  {
   "cell_type": "code",
   "execution_count": 6,
   "id": "dc96d082",
   "metadata": {},
   "outputs": [
    {
     "data": {
      "text/html": [
       "<div>\n",
       "<style scoped>\n",
       "    .dataframe tbody tr th:only-of-type {\n",
       "        vertical-align: middle;\n",
       "    }\n",
       "\n",
       "    .dataframe tbody tr th {\n",
       "        vertical-align: top;\n",
       "    }\n",
       "\n",
       "    .dataframe thead th {\n",
       "        text-align: right;\n",
       "    }\n",
       "</style>\n",
       "<table border=\"1\" class=\"dataframe\">\n",
       "  <thead>\n",
       "    <tr style=\"text-align: right;\">\n",
       "      <th></th>\n",
       "      <th>id</th>\n",
       "      <th>product_key</th>\n",
       "      <th>price</th>\n",
       "      <th>product_url</th>\n",
       "      <th>product_name</th>\n",
       "      <th>date</th>\n",
       "      <th>dealer_id</th>\n",
       "    </tr>\n",
       "  </thead>\n",
       "  <tbody>\n",
       "    <tr>\n",
       "      <th>0</th>\n",
       "      <td>2</td>\n",
       "      <td>546227</td>\n",
       "      <td>233.0</td>\n",
       "      <td>https://akson.ru//p/sredstvo_universalnoe_prosept_universal_spray_500ml/</td>\n",
       "      <td>Средство универсальное Prosept Universal Spray, 500мл</td>\n",
       "      <td>2023-07-11</td>\n",
       "      <td>2</td>\n",
       "    </tr>\n",
       "    <tr>\n",
       "      <th>1</th>\n",
       "      <td>3</td>\n",
       "      <td>546408</td>\n",
       "      <td>175.0</td>\n",
       "      <td>https://akson.ru//p/kontsentrat_prosept_multipower_dlya_mytya_polov_tsitrus_1l/</td>\n",
       "      <td>Концентрат Prosept Multipower для мытья полов, цитрус 1л</td>\n",
       "      <td>2023-07-11</td>\n",
       "      <td>2</td>\n",
       "    </tr>\n",
       "    <tr>\n",
       "      <th>2</th>\n",
       "      <td>4</td>\n",
       "      <td>546234</td>\n",
       "      <td>285.0</td>\n",
       "      <td>https://akson.ru//p/sredstvo_dlya_chistki_lyustr_prosept_universal_anti_dust_500ml/</td>\n",
       "      <td>Средство для чистки люстр Prosept Universal Anti-dust, 500мл</td>\n",
       "      <td>2023-07-11</td>\n",
       "      <td>2</td>\n",
       "    </tr>\n",
       "    <tr>\n",
       "      <th>3</th>\n",
       "      <td>5</td>\n",
       "      <td>651258</td>\n",
       "      <td>362.0</td>\n",
       "      <td>https://akson.ru//p/udalitel_rzhavchiny_prosept_rust_remover_0_5l_023_05/</td>\n",
       "      <td>Удалитель ржавчины PROSEPT RUST REMOVER 0,5л 023-05</td>\n",
       "      <td>2023-07-11</td>\n",
       "      <td>2</td>\n",
       "    </tr>\n",
       "    <tr>\n",
       "      <th>4</th>\n",
       "      <td>6</td>\n",
       "      <td>546355</td>\n",
       "      <td>205.0</td>\n",
       "      <td>https://akson.ru//p/sredstvo_moyushchee_dlya_bani_i_sauny_prosept_multipower_wood_1l/</td>\n",
       "      <td>Средство моющее для бани и сауны Prosept Multipower Wood 1л</td>\n",
       "      <td>2023-07-11</td>\n",
       "      <td>2</td>\n",
       "    </tr>\n",
       "  </tbody>\n",
       "</table>\n",
       "</div>"
      ],
      "text/plain": [
       "   id product_key  price  \\\n",
       "0   2      546227  233.0   \n",
       "1   3      546408  175.0   \n",
       "2   4      546234  285.0   \n",
       "3   5      651258  362.0   \n",
       "4   6      546355  205.0   \n",
       "\n",
       "                                                                             product_url  \\\n",
       "0               https://akson.ru//p/sredstvo_universalnoe_prosept_universal_spray_500ml/   \n",
       "1        https://akson.ru//p/kontsentrat_prosept_multipower_dlya_mytya_polov_tsitrus_1l/   \n",
       "2    https://akson.ru//p/sredstvo_dlya_chistki_lyustr_prosept_universal_anti_dust_500ml/   \n",
       "3              https://akson.ru//p/udalitel_rzhavchiny_prosept_rust_remover_0_5l_023_05/   \n",
       "4  https://akson.ru//p/sredstvo_moyushchee_dlya_bani_i_sauny_prosept_multipower_wood_1l/   \n",
       "\n",
       "                                                   product_name        date  \\\n",
       "0         Средство универсальное Prosept Universal Spray, 500мл  2023-07-11   \n",
       "1      Концентрат Prosept Multipower для мытья полов, цитрус 1л  2023-07-11   \n",
       "2  Средство для чистки люстр Prosept Universal Anti-dust, 500мл  2023-07-11   \n",
       "3           Удалитель ржавчины PROSEPT RUST REMOVER 0,5л 023-05  2023-07-11   \n",
       "4   Средство моющее для бани и сауны Prosept Multipower Wood 1л  2023-07-11   \n",
       "\n",
       "   dealer_id  \n",
       "0          2  \n",
       "1          2  \n",
       "2          2  \n",
       "3          2  \n",
       "4          2  "
      ]
     },
     "execution_count": 6,
     "metadata": {},
     "output_type": "execute_result"
    }
   ],
   "source": [
    "marketing_dealerprice.head()"
   ]
  },
  {
   "cell_type": "code",
   "execution_count": 7,
   "id": "817cbc98",
   "metadata": {},
   "outputs": [
    {
     "data": {
      "text/plain": [
       "18288"
      ]
     },
     "execution_count": 7,
     "metadata": {},
     "output_type": "execute_result"
    }
   ],
   "source": [
    "# проверим данные на дубликаты\n",
    "marketing_dealerprice.duplicated(subset=['product_key', 'product_url', 'product_name']).sum()"
   ]
  },
  {
   "cell_type": "code",
   "execution_count": 8,
   "id": "c507bade",
   "metadata": {},
   "outputs": [],
   "source": [
    "# уберём дубликаты по столбцам: ключ, url и названию\n",
    "marketing_dealerprice.drop_duplicates(subset=['product_key', 'product_url', 'product_name'], inplace=True)"
   ]
  },
  {
   "cell_type": "code",
   "execution_count": 9,
   "id": "04e489a7",
   "metadata": {},
   "outputs": [],
   "source": [
    "marketing_dealerprice.reset_index(drop=True, inplace=True)"
   ]
  },
  {
   "cell_type": "markdown",
   "id": "41f7863d",
   "metadata": {},
   "source": [
    "**marketing_product - список товаров, которые производит и распространяет заказчик**:\n",
    "- article - артикул товара;\n",
    "- ean_13 - код товара (см. EAN 13)\n",
    "- name - название товара;\n",
    "- cost - стоимость;\n",
    "- min_recommended_price - рекомендованная минимальная цена;\n",
    "- recommended_price - рекомендованная цена;\n",
    "- category_id - категория товара;\n",
    "- ozon_name - названиет товара на Озоне;\n",
    "- name_1c - название товара в 1C;\n",
    "- wb_name - название товара на Wildberries;\n",
    "- ozon_article - описание для Озон;\n",
    "- wb_article - артикул для Wildberries;\n",
    "- ym_article - артикул для Яндекс.Маркета;"
   ]
  },
  {
   "cell_type": "code",
   "execution_count": 10,
   "id": "2a124c00",
   "metadata": {},
   "outputs": [],
   "source": [
    "marketing_product= pd.read_csv(path + 'marketing_product.csv', engine='python', sep = ';', index_col= 0)"
   ]
  },
  {
   "cell_type": "code",
   "execution_count": 11,
   "id": "561aba31",
   "metadata": {},
   "outputs": [
    {
     "name": "stdout",
     "output_type": "stream",
     "text": [
      "<class 'pandas.core.frame.DataFrame'>\n",
      "Index: 496 entries, 0 to 495\n",
      "Data columns (total 14 columns):\n",
      " #   Column             Non-Null Count  Dtype  \n",
      "---  ------             --------------  -----  \n",
      " 0   id                 496 non-null    int64  \n",
      " 1   article            496 non-null    object \n",
      " 2   ean_13             464 non-null    float64\n",
      " 3   name               494 non-null    object \n",
      " 4   cost               491 non-null    float64\n",
      " 5   recommended_price  491 non-null    float64\n",
      " 6   category_id        447 non-null    float64\n",
      " 7   ozon_name          458 non-null    object \n",
      " 8   name_1c            485 non-null    object \n",
      " 9   wb_name            455 non-null    object \n",
      " 10  ozon_article       365 non-null    float64\n",
      " 11  wb_article         340 non-null    float64\n",
      " 12  ym_article         337 non-null    object \n",
      " 13  wb_article_td      32 non-null     object \n",
      "dtypes: float64(6), int64(1), object(7)\n",
      "memory usage: 58.1+ KB\n"
     ]
    }
   ],
   "source": [
    "marketing_product.info()"
   ]
  },
  {
   "cell_type": "code",
   "execution_count": 12,
   "id": "b0f3cf1e",
   "metadata": {},
   "outputs": [
    {
     "data": {
      "text/html": [
       "<div>\n",
       "<style scoped>\n",
       "    .dataframe tbody tr th:only-of-type {\n",
       "        vertical-align: middle;\n",
       "    }\n",
       "\n",
       "    .dataframe tbody tr th {\n",
       "        vertical-align: top;\n",
       "    }\n",
       "\n",
       "    .dataframe thead th {\n",
       "        text-align: right;\n",
       "    }\n",
       "</style>\n",
       "<table border=\"1\" class=\"dataframe\">\n",
       "  <thead>\n",
       "    <tr style=\"text-align: right;\">\n",
       "      <th></th>\n",
       "      <th>id</th>\n",
       "      <th>article</th>\n",
       "      <th>ean_13</th>\n",
       "      <th>name</th>\n",
       "      <th>cost</th>\n",
       "      <th>recommended_price</th>\n",
       "      <th>category_id</th>\n",
       "      <th>ozon_name</th>\n",
       "      <th>name_1c</th>\n",
       "      <th>wb_name</th>\n",
       "      <th>ozon_article</th>\n",
       "      <th>wb_article</th>\n",
       "      <th>ym_article</th>\n",
       "      <th>wb_article_td</th>\n",
       "    </tr>\n",
       "  </thead>\n",
       "  <tbody>\n",
       "    <tr>\n",
       "      <th>0</th>\n",
       "      <td>245</td>\n",
       "      <td>008-1</td>\n",
       "      <td>4.680008e+12</td>\n",
       "      <td>Антисептик невымываемыйPROSEPT ULTRAконцентрат 1:10  / 1 л</td>\n",
       "      <td>360.00</td>\n",
       "      <td>858.0</td>\n",
       "      <td>20.0</td>\n",
       "      <td>Антисептик невымываемый для ответственных конструкций PROSEPT ULTRA, концентрат, 1 л.</td>\n",
       "      <td>Антисептик невымываемый для ответственных конструкций PROSEPT ULTRA, концентрат, 1 л.</td>\n",
       "      <td>Антисептик невымываемый для ответственных конструкций PROSEPT ULTRA, концентрат, 1 л.</td>\n",
       "      <td>189522705.0</td>\n",
       "      <td>150033482.0</td>\n",
       "      <td>008-1</td>\n",
       "      <td>NaN</td>\n",
       "    </tr>\n",
       "    <tr>\n",
       "      <th>1</th>\n",
       "      <td>3</td>\n",
       "      <td>242-12</td>\n",
       "      <td>NaN</td>\n",
       "      <td>Антигололед - 32 PROSEPTготовый состав / 12 кг</td>\n",
       "      <td>460.16</td>\n",
       "      <td>1075.0</td>\n",
       "      <td>NaN</td>\n",
       "      <td>NaN</td>\n",
       "      <td>Антигололед - 32 PROSEPTготовый состав / 12 кг</td>\n",
       "      <td>NaN</td>\n",
       "      <td>NaN</td>\n",
       "      <td>NaN</td>\n",
       "      <td>NaN</td>\n",
       "      <td>NaN</td>\n",
       "    </tr>\n",
       "  </tbody>\n",
       "</table>\n",
       "</div>"
      ],
      "text/plain": [
       "    id article        ean_13  \\\n",
       "0  245   008-1  4.680008e+12   \n",
       "1    3  242-12           NaN   \n",
       "\n",
       "                                                         name    cost  \\\n",
       "0  Антисептик невымываемыйPROSEPT ULTRAконцентрат 1:10  / 1 л  360.00   \n",
       "1              Антигололед - 32 PROSEPTготовый состав / 12 кг  460.16   \n",
       "\n",
       "   recommended_price  category_id  \\\n",
       "0              858.0         20.0   \n",
       "1             1075.0          NaN   \n",
       "\n",
       "                                                                               ozon_name  \\\n",
       "0  Антисептик невымываемый для ответственных конструкций PROSEPT ULTRA, концентрат, 1 л.   \n",
       "1                                                                                    NaN   \n",
       "\n",
       "                                                                                 name_1c  \\\n",
       "0  Антисептик невымываемый для ответственных конструкций PROSEPT ULTRA, концентрат, 1 л.   \n",
       "1                                         Антигололед - 32 PROSEPTготовый состав / 12 кг   \n",
       "\n",
       "                                                                                 wb_name  \\\n",
       "0  Антисептик невымываемый для ответственных конструкций PROSEPT ULTRA, концентрат, 1 л.   \n",
       "1                                                                                    NaN   \n",
       "\n",
       "   ozon_article   wb_article ym_article wb_article_td  \n",
       "0   189522705.0  150033482.0      008-1           NaN  \n",
       "1           NaN          NaN        NaN           NaN  "
      ]
     },
     "execution_count": 12,
     "metadata": {},
     "output_type": "execute_result"
    }
   ],
   "source": [
    "marketing_product.head(2)"
   ]
  },
  {
   "cell_type": "code",
   "execution_count": 13,
   "id": "6b7e4fe7",
   "metadata": {},
   "outputs": [
    {
     "name": "stdout",
     "output_type": "stream",
     "text": [
      "Название продукта у производителя\n",
      "Средство для мытья полов и стенMultipower \"Полевые цветы\"концентрат  1:10 – 1:120 / 0,8 л\n",
      "------------------------------------\n",
      "Название продукта на озоне\n",
      "nan\n",
      "------------------------------------\n",
      "Название продукта на вайлдбериз\n",
      "nan\n",
      "------------------------------------\n",
      "Название продукта в 1С\n",
      "Средство для мытья полов и стенMultipower \"Полевые цветы\"концентрат  1:10 – 1:120 / 0,8 л\n"
     ]
    }
   ],
   "source": [
    "# посмотрим на данные по столбцам\n",
    "i = 15\n",
    "print('Название продукта у производителя')\n",
    "print(f'{marketing_product[\"name\"][i]}')\n",
    "print('------------------------------------')\n",
    "print('Название продукта на озоне')\n",
    "print(f'{marketing_product[\"ozon_name\"][i]}')\n",
    "print('------------------------------------')\n",
    "print('Название продукта на вайлдбериз')\n",
    "print(f'{marketing_product[\"wb_name\"][i]}')\n",
    "print('------------------------------------')\n",
    "print('Название продукта в 1С')\n",
    "print(f'{marketing_product[\"name_1c\"][i]}')"
   ]
  },
  {
   "cell_type": "code",
   "execution_count": 14,
   "id": "a045359f",
   "metadata": {},
   "outputs": [
    {
     "data": {
      "text/plain": [
       "id                     0\n",
       "article                0\n",
       "ean_13                32\n",
       "name                   2\n",
       "cost                   5\n",
       "recommended_price      5\n",
       "category_id           49\n",
       "ozon_name             38\n",
       "name_1c               11\n",
       "wb_name               41\n",
       "ozon_article         131\n",
       "wb_article           156\n",
       "ym_article           159\n",
       "wb_article_td        464\n",
       "dtype: int64"
      ]
     },
     "execution_count": 14,
     "metadata": {},
     "output_type": "execute_result"
    }
   ],
   "source": [
    "marketing_product.isnull().sum()"
   ]
  },
  {
   "cell_type": "code",
   "execution_count": 15,
   "id": "22b7dee5",
   "metadata": {},
   "outputs": [],
   "source": [
    "marketing_product = marketing_product.dropna(subset='name')"
   ]
  },
  {
   "cell_type": "code",
   "execution_count": 16,
   "id": "5777b256",
   "metadata": {},
   "outputs": [],
   "source": [
    "marketing_product.reset_index(drop=True, inplace=True)"
   ]
  },
  {
   "cell_type": "markdown",
   "id": "e9315f5f",
   "metadata": {},
   "source": [
    "### Добавим новый признак- объем вещества, выделив его из описания."
   ]
  },
  {
   "cell_type": "code",
   "execution_count": 17,
   "id": "79098afc",
   "metadata": {},
   "outputs": [],
   "source": [
    "# создадим столбец с единицами измерения, указанные в названии товара, и уберём их из самих названий\n",
    "def mesuares(text):    \n",
    "    pattern = r'(\\d+\\s?[лмкг]+)'\n",
    "    match  = re.search(pattern, text)\n",
    "    if match:\n",
    "        text = match.group(1)\n",
    "        text = text.replace(pattern, '')\n",
    "    return text"
   ]
  },
  {
   "cell_type": "code",
   "execution_count": 18,
   "id": "ff79a6ec",
   "metadata": {},
   "outputs": [],
   "source": [
    "marketing_product['mesuares'] = marketing_product['name'].apply(mesuares)\n",
    "marketing_dealerprice['mesuares'] = marketing_dealerprice['product_name'].apply(mesuares)"
   ]
  },
  {
   "cell_type": "code",
   "execution_count": 19,
   "id": "c84c6714",
   "metadata": {},
   "outputs": [
    {
     "data": {
      "text/plain": [
       "0        1 л\n",
       "1      12 кг\n",
       "2      600мл\n",
       "3        2 л\n",
       "4       7 кг\n",
       "       ...  \n",
       "489      5 л\n",
       "490      1 л\n",
       "491      5 л\n",
       "492      5 л\n",
       "493     75 л\n",
       "Name: mesuares, Length: 494, dtype: object"
      ]
     },
     "execution_count": 19,
     "metadata": {},
     "output_type": "execute_result"
    }
   ],
   "source": [
    "marketing_product['mesuares']"
   ]
  },
  {
   "cell_type": "code",
   "execution_count": 20,
   "id": "3e30d434",
   "metadata": {},
   "outputs": [
    {
     "data": {
      "text/html": [
       "<div>\n",
       "<style scoped>\n",
       "    .dataframe tbody tr th:only-of-type {\n",
       "        vertical-align: middle;\n",
       "    }\n",
       "\n",
       "    .dataframe tbody tr th {\n",
       "        vertical-align: top;\n",
       "    }\n",
       "\n",
       "    .dataframe thead th {\n",
       "        text-align: right;\n",
       "    }\n",
       "</style>\n",
       "<table border=\"1\" class=\"dataframe\">\n",
       "  <thead>\n",
       "    <tr style=\"text-align: right;\">\n",
       "      <th></th>\n",
       "      <th>id</th>\n",
       "      <th>article</th>\n",
       "      <th>ean_13</th>\n",
       "      <th>name</th>\n",
       "      <th>cost</th>\n",
       "      <th>recommended_price</th>\n",
       "      <th>category_id</th>\n",
       "      <th>ozon_name</th>\n",
       "      <th>name_1c</th>\n",
       "      <th>wb_name</th>\n",
       "      <th>ozon_article</th>\n",
       "      <th>wb_article</th>\n",
       "      <th>ym_article</th>\n",
       "      <th>wb_article_td</th>\n",
       "      <th>mesuares</th>\n",
       "    </tr>\n",
       "  </thead>\n",
       "  <tbody>\n",
       "    <tr>\n",
       "      <th>0</th>\n",
       "      <td>245</td>\n",
       "      <td>008-1</td>\n",
       "      <td>4.680008e+12</td>\n",
       "      <td>Антисептик невымываемыйPROSEPT ULTRAконцентрат 1:10  / 1 л</td>\n",
       "      <td>360.00</td>\n",
       "      <td>858.0</td>\n",
       "      <td>20.0</td>\n",
       "      <td>Антисептик невымываемый для ответственных конструкций PROSEPT ULTRA, концентрат, 1 л.</td>\n",
       "      <td>Антисептик невымываемый для ответственных конструкций PROSEPT ULTRA, концентрат, 1 л.</td>\n",
       "      <td>Антисептик невымываемый для ответственных конструкций PROSEPT ULTRA, концентрат, 1 л.</td>\n",
       "      <td>189522705.0</td>\n",
       "      <td>150033482.0</td>\n",
       "      <td>008-1</td>\n",
       "      <td>NaN</td>\n",
       "      <td>1 л</td>\n",
       "    </tr>\n",
       "    <tr>\n",
       "      <th>1</th>\n",
       "      <td>3</td>\n",
       "      <td>242-12</td>\n",
       "      <td>NaN</td>\n",
       "      <td>Антигололед - 32 PROSEPTготовый состав / 12 кг</td>\n",
       "      <td>460.16</td>\n",
       "      <td>1075.0</td>\n",
       "      <td>NaN</td>\n",
       "      <td>NaN</td>\n",
       "      <td>Антигололед - 32 PROSEPTготовый состав / 12 кг</td>\n",
       "      <td>NaN</td>\n",
       "      <td>NaN</td>\n",
       "      <td>NaN</td>\n",
       "      <td>NaN</td>\n",
       "      <td>NaN</td>\n",
       "      <td>12 кг</td>\n",
       "    </tr>\n",
       "  </tbody>\n",
       "</table>\n",
       "</div>"
      ],
      "text/plain": [
       "    id article        ean_13  \\\n",
       "0  245   008-1  4.680008e+12   \n",
       "1    3  242-12           NaN   \n",
       "\n",
       "                                                         name    cost  \\\n",
       "0  Антисептик невымываемыйPROSEPT ULTRAконцентрат 1:10  / 1 л  360.00   \n",
       "1              Антигололед - 32 PROSEPTготовый состав / 12 кг  460.16   \n",
       "\n",
       "   recommended_price  category_id  \\\n",
       "0              858.0         20.0   \n",
       "1             1075.0          NaN   \n",
       "\n",
       "                                                                               ozon_name  \\\n",
       "0  Антисептик невымываемый для ответственных конструкций PROSEPT ULTRA, концентрат, 1 л.   \n",
       "1                                                                                    NaN   \n",
       "\n",
       "                                                                                 name_1c  \\\n",
       "0  Антисептик невымываемый для ответственных конструкций PROSEPT ULTRA, концентрат, 1 л.   \n",
       "1                                         Антигололед - 32 PROSEPTготовый состав / 12 кг   \n",
       "\n",
       "                                                                                 wb_name  \\\n",
       "0  Антисептик невымываемый для ответственных конструкций PROSEPT ULTRA, концентрат, 1 л.   \n",
       "1                                                                                    NaN   \n",
       "\n",
       "   ozon_article   wb_article ym_article wb_article_td mesuares  \n",
       "0   189522705.0  150033482.0      008-1           NaN      1 л  \n",
       "1           NaN          NaN        NaN           NaN    12 кг  "
      ]
     },
     "metadata": {},
     "output_type": "display_data"
    },
    {
     "data": {
      "text/html": [
       "<div>\n",
       "<style scoped>\n",
       "    .dataframe tbody tr th:only-of-type {\n",
       "        vertical-align: middle;\n",
       "    }\n",
       "\n",
       "    .dataframe tbody tr th {\n",
       "        vertical-align: top;\n",
       "    }\n",
       "\n",
       "    .dataframe thead th {\n",
       "        text-align: right;\n",
       "    }\n",
       "</style>\n",
       "<table border=\"1\" class=\"dataframe\">\n",
       "  <thead>\n",
       "    <tr style=\"text-align: right;\">\n",
       "      <th></th>\n",
       "      <th>id</th>\n",
       "      <th>product_key</th>\n",
       "      <th>price</th>\n",
       "      <th>product_url</th>\n",
       "      <th>product_name</th>\n",
       "      <th>date</th>\n",
       "      <th>dealer_id</th>\n",
       "      <th>mesuares</th>\n",
       "    </tr>\n",
       "  </thead>\n",
       "  <tbody>\n",
       "    <tr>\n",
       "      <th>0</th>\n",
       "      <td>2</td>\n",
       "      <td>546227</td>\n",
       "      <td>233.0</td>\n",
       "      <td>https://akson.ru//p/sredstvo_universalnoe_prosept_universal_spray_500ml/</td>\n",
       "      <td>Средство универсальное Prosept Universal Spray, 500мл</td>\n",
       "      <td>2023-07-11</td>\n",
       "      <td>2</td>\n",
       "      <td>500мл</td>\n",
       "    </tr>\n",
       "    <tr>\n",
       "      <th>1</th>\n",
       "      <td>3</td>\n",
       "      <td>546408</td>\n",
       "      <td>175.0</td>\n",
       "      <td>https://akson.ru//p/kontsentrat_prosept_multipower_dlya_mytya_polov_tsitrus_1l/</td>\n",
       "      <td>Концентрат Prosept Multipower для мытья полов, цитрус 1л</td>\n",
       "      <td>2023-07-11</td>\n",
       "      <td>2</td>\n",
       "      <td>1л</td>\n",
       "    </tr>\n",
       "  </tbody>\n",
       "</table>\n",
       "</div>"
      ],
      "text/plain": [
       "   id product_key  price  \\\n",
       "0   2      546227  233.0   \n",
       "1   3      546408  175.0   \n",
       "\n",
       "                                                                       product_url  \\\n",
       "0         https://akson.ru//p/sredstvo_universalnoe_prosept_universal_spray_500ml/   \n",
       "1  https://akson.ru//p/kontsentrat_prosept_multipower_dlya_mytya_polov_tsitrus_1l/   \n",
       "\n",
       "                                               product_name        date  \\\n",
       "0     Средство универсальное Prosept Universal Spray, 500мл  2023-07-11   \n",
       "1  Концентрат Prosept Multipower для мытья полов, цитрус 1л  2023-07-11   \n",
       "\n",
       "   dealer_id mesuares  \n",
       "0          2    500мл  \n",
       "1          2       1л  "
      ]
     },
     "metadata": {},
     "output_type": "display_data"
    }
   ],
   "source": [
    "display(marketing_product.head(2))\n",
    "display(marketing_dealerprice.head(2))"
   ]
  },
  {
   "cell_type": "markdown",
   "id": "ba4f3ccd",
   "metadata": {},
   "source": [
    "**marketing_productdealerkey - таблица матчинга товаров заказчика и товаров дилеров**\n",
    "   - key - внешний ключ к marketing_dealerprice\n",
    "   - product_id - внешний ключ к marketing_product\n",
    "   - dealer_id - внешний ключ к marketing_dealer"
   ]
  },
  {
   "cell_type": "code",
   "execution_count": 21,
   "id": "8b3c612a",
   "metadata": {},
   "outputs": [],
   "source": [
    "marketing_productdealerkey = pd.read_csv(path + 'marketing_productdealerkey.csv', \n",
    "                                         engine='python', sep = ';')"
   ]
  },
  {
   "cell_type": "code",
   "execution_count": 22,
   "id": "34c875f6",
   "metadata": {},
   "outputs": [
    {
     "name": "stdout",
     "output_type": "stream",
     "text": [
      "<class 'pandas.core.frame.DataFrame'>\n",
      "RangeIndex: 1700 entries, 0 to 1699\n",
      "Data columns (total 4 columns):\n",
      " #   Column      Non-Null Count  Dtype \n",
      "---  ------      --------------  ----- \n",
      " 0   id          1700 non-null   int64 \n",
      " 1   key         1700 non-null   object\n",
      " 2   dealer_id   1700 non-null   int64 \n",
      " 3   product_id  1700 non-null   int64 \n",
      "dtypes: int64(3), object(1)\n",
      "memory usage: 53.3+ KB\n"
     ]
    }
   ],
   "source": [
    "marketing_productdealerkey.info()"
   ]
  },
  {
   "cell_type": "code",
   "execution_count": 23,
   "id": "bd1c98a9",
   "metadata": {},
   "outputs": [
    {
     "data": {
      "text/html": [
       "<div>\n",
       "<style scoped>\n",
       "    .dataframe tbody tr th:only-of-type {\n",
       "        vertical-align: middle;\n",
       "    }\n",
       "\n",
       "    .dataframe tbody tr th {\n",
       "        vertical-align: top;\n",
       "    }\n",
       "\n",
       "    .dataframe thead th {\n",
       "        text-align: right;\n",
       "    }\n",
       "</style>\n",
       "<table border=\"1\" class=\"dataframe\">\n",
       "  <thead>\n",
       "    <tr style=\"text-align: right;\">\n",
       "      <th></th>\n",
       "      <th>id</th>\n",
       "      <th>key</th>\n",
       "      <th>dealer_id</th>\n",
       "      <th>product_id</th>\n",
       "    </tr>\n",
       "  </thead>\n",
       "  <tbody>\n",
       "    <tr>\n",
       "      <th>0</th>\n",
       "      <td>1</td>\n",
       "      <td>546227</td>\n",
       "      <td>2</td>\n",
       "      <td>12</td>\n",
       "    </tr>\n",
       "    <tr>\n",
       "      <th>1</th>\n",
       "      <td>2</td>\n",
       "      <td>651265</td>\n",
       "      <td>2</td>\n",
       "      <td>106</td>\n",
       "    </tr>\n",
       "    <tr>\n",
       "      <th>2</th>\n",
       "      <td>3</td>\n",
       "      <td>546257</td>\n",
       "      <td>2</td>\n",
       "      <td>200</td>\n",
       "    </tr>\n",
       "    <tr>\n",
       "      <th>3</th>\n",
       "      <td>4</td>\n",
       "      <td>546408</td>\n",
       "      <td>2</td>\n",
       "      <td>38</td>\n",
       "    </tr>\n",
       "    <tr>\n",
       "      <th>4</th>\n",
       "      <td>5</td>\n",
       "      <td>651258</td>\n",
       "      <td>2</td>\n",
       "      <td>403</td>\n",
       "    </tr>\n",
       "  </tbody>\n",
       "</table>\n",
       "</div>"
      ],
      "text/plain": [
       "   id     key  dealer_id  product_id\n",
       "0   1  546227          2          12\n",
       "1   2  651265          2         106\n",
       "2   3  546257          2         200\n",
       "3   4  546408          2          38\n",
       "4   5  651258          2         403"
      ]
     },
     "execution_count": 23,
     "metadata": {},
     "output_type": "execute_result"
    }
   ],
   "source": [
    "marketing_productdealerkey.head()"
   ]
  },
  {
   "cell_type": "code",
   "execution_count": 24,
   "id": "1b6cac78",
   "metadata": {},
   "outputs": [],
   "source": [
    "nlp = spacy.load('ru_core_news_sm')"
   ]
  },
  {
   "cell_type": "markdown",
   "id": "e1ca8812",
   "metadata": {},
   "source": [
    "## Обработка текста."
   ]
  },
  {
   "cell_type": "code",
   "execution_count": 25,
   "id": "40a9c9f3",
   "metadata": {},
   "outputs": [],
   "source": [
    "def lemmatize_text(text):\n",
    "    #lemmatizer = WordNetLemmatizer()\n",
    "    # отделение английских слов\n",
    "    pattern = re.compile(r'(?<=[а-яА-Я])(?=[A-Z])|(?<=[a-zA-Z])(?=[а-яА-Я])')\n",
    "    text = re.sub(pattern, ' ', text)\n",
    "    # приведение к нижнему регистру \n",
    "    text = text.lower()\n",
    "    # соотношения объемов\n",
    "    pattern2 = re.compile(r\"\\b\\d+:\\d+\\s*-\\s*\\d+:\\d+\\b|\\s*\\d+:\\d+\\s*\")\n",
    "    text = re.sub(pattern2, \" \", text)\n",
    "    # удаление символов\n",
    "    text = re.sub(r'\\W', ' ', str(text))\n",
    "    doc = nlp(text)\n",
    "    tokens = [token.lemma_ for token in doc]\n",
    "    #return \"\".join(lemmatizer.lemmatize(text))\n",
    "    return \" \".join(tokens)"
   ]
  },
  {
   "cell_type": "code",
   "execution_count": 26,
   "id": "b3ad1f6f",
   "metadata": {},
   "outputs": [],
   "source": [
    "marketing_dealerprice['product_name_lem'] = marketing_dealerprice['product_name'].apply(lemmatize_text)\n",
    "marketing_product['name_lem'] = marketing_product['name'].apply(lemmatize_text)"
   ]
  },
  {
   "cell_type": "code",
   "execution_count": 27,
   "id": "091c3d03",
   "metadata": {},
   "outputs": [
    {
     "data": {
      "text/plain": [
       "0                                                 средство универсальный prosept universal spray   500мл\n",
       "1                                                концентрат prosept multipower для мытьё пол   цитрус 1л\n",
       "2                                          средство для чистка люстр prosept universal anti dust   500мл\n",
       "3                                                    удалитель ржавчина prosept rust remover 0 5л 023 05\n",
       "4                                              средство мыть для баня и сауна prosept multipower wood 1л\n",
       "                                                      ...                                               \n",
       "2123    средство для удаление клейкий лента   клей   наклейка 0 4л prosept duty universal готовый состав\n",
       "2124     герметик акриловый межшовный для деревянный дом   конструкция   изделие prosept цвет тик   3 кг\n",
       "2125                                       отбеливатель для древесина prosept eco 50 готовый состав 1 кг\n",
       "2126                                                            строительный антисептик   prosept 5 6 кг\n",
       "2127       герметик акриловый межшовный для деревянный конструкция   цвет   орех   готовый состав 0 6 кг\n",
       "Name: product_name_lem, Length: 2128, dtype: object"
      ]
     },
     "execution_count": 27,
     "metadata": {},
     "output_type": "execute_result"
    }
   ],
   "source": [
    "marketing_dealerprice['product_name_lem']"
   ]
  },
  {
   "cell_type": "code",
   "execution_count": 28,
   "id": "78e25bc3",
   "metadata": {
    "scrolled": true
   },
   "outputs": [
    {
     "name": "stdout",
     "output_type": "stream",
     "text": [
      "                                                            name\n",
      "0         средство универсальный prosept universal spray   500мл\n",
      "1        концентрат prosept multipower для мытьё пол   цитрус 1л\n",
      "2  средство для чистка люстр prosept universal anti dust   500мл\n",
      "3            удалитель ржавчина prosept rust remover 0 5л 023 05\n",
      "4      средство мыть для баня и сауна prosept multipower wood 1л\n",
      "------------------------------------------------------------------------------------------\n",
      "                                                                                 name\n",
      "0                             антисептик невымываемый prosept ultra концентрат    1 л\n",
      "1                                   антигололед    32 prosept готовый состав    12 кг\n",
      "2                                           герметик акриловый цвет сосна   ф п 600мл\n",
      "3  кондиционер для бельё с аромат   королевский ирис crystal rinser концентрат    2 л\n",
      "4                                              герметик акриловой   цвет белый   7 кг\n",
      "------------------------------------------------------------------------------------------\n",
      "(2128, 1)\n",
      "(494, 1)\n"
     ]
    }
   ],
   "source": [
    "df_1 = marketing_dealerprice[['product_name_lem']]\n",
    "df_1 = df_1.rename(columns={'product_name_lem': 'name'})\n",
    "df_2 = marketing_product[['name_lem']]\n",
    "df_2 = df_2.rename(columns={'name_lem': 'name'})\n",
    "print(df_1.head())\n",
    "print('-'*90)\n",
    "print(df_2.head())\n",
    "print('-'*90)\n",
    "print(df_1.shape)\n",
    "print(df_2.shape)\n",
    "df = pd.concat([df_1, df_2])"
   ]
  },
  {
   "cell_type": "code",
   "execution_count": 29,
   "id": "7ad022b6",
   "metadata": {
    "scrolled": true
   },
   "outputs": [
    {
     "data": {
      "text/html": [
       "<div>\n",
       "<style scoped>\n",
       "    .dataframe tbody tr th:only-of-type {\n",
       "        vertical-align: middle;\n",
       "    }\n",
       "\n",
       "    .dataframe tbody tr th {\n",
       "        vertical-align: top;\n",
       "    }\n",
       "\n",
       "    .dataframe thead th {\n",
       "        text-align: right;\n",
       "    }\n",
       "</style>\n",
       "<table border=\"1\" class=\"dataframe\">\n",
       "  <thead>\n",
       "    <tr style=\"text-align: right;\">\n",
       "      <th></th>\n",
       "      <th>name</th>\n",
       "    </tr>\n",
       "  </thead>\n",
       "  <tbody>\n",
       "    <tr>\n",
       "      <th>0</th>\n",
       "      <td>средство универсальный prosept universal spray   500мл</td>\n",
       "    </tr>\n",
       "    <tr>\n",
       "      <th>1</th>\n",
       "      <td>концентрат prosept multipower для мытьё пол   цитрус 1л</td>\n",
       "    </tr>\n",
       "    <tr>\n",
       "      <th>2</th>\n",
       "      <td>средство для чистка люстр prosept universal anti dust   500мл</td>\n",
       "    </tr>\n",
       "    <tr>\n",
       "      <th>3</th>\n",
       "      <td>удалитель ржавчина prosept rust remover 0 5л 023 05</td>\n",
       "    </tr>\n",
       "    <tr>\n",
       "      <th>4</th>\n",
       "      <td>средство мыть для баня и сауна prosept multipower wood 1л</td>\n",
       "    </tr>\n",
       "  </tbody>\n",
       "</table>\n",
       "</div>"
      ],
      "text/plain": [
       "                                                            name\n",
       "0         средство универсальный prosept universal spray   500мл\n",
       "1        концентрат prosept multipower для мытьё пол   цитрус 1л\n",
       "2  средство для чистка люстр prosept universal anti dust   500мл\n",
       "3            удалитель ржавчина prosept rust remover 0 5л 023 05\n",
       "4      средство мыть для баня и сауна prosept multipower wood 1л"
      ]
     },
     "execution_count": 29,
     "metadata": {},
     "output_type": "execute_result"
    }
   ],
   "source": [
    "df.head()"
   ]
  },
  {
   "cell_type": "code",
   "execution_count": 30,
   "id": "5da4464c",
   "metadata": {},
   "outputs": [
    {
     "data": {
      "text/plain": [
       "(2622, 1)"
      ]
     },
     "execution_count": 30,
     "metadata": {},
     "output_type": "execute_result"
    }
   ],
   "source": [
    "df.shape"
   ]
  },
  {
   "cell_type": "markdown",
   "id": "432bf2c2",
   "metadata": {},
   "source": [
    "### Векторизация названий"
   ]
  },
  {
   "cell_type": "code",
   "execution_count": 31,
   "id": "130e59fa",
   "metadata": {},
   "outputs": [],
   "source": [
    "vectorizer = TfidfVectorizer()\n",
    "df = vectorizer.fit_transform(df['name'])\n",
    "df_1 = vectorizer.transform(df_1['name'])\n",
    "df_2 = vectorizer.transform(df_2['name'])"
   ]
  },
  {
   "cell_type": "code",
   "execution_count": 32,
   "id": "d043349c",
   "metadata": {},
   "outputs": [
    {
     "name": "stdout",
     "output_type": "stream",
     "text": [
      "(2128, 1010)\n",
      "(494, 1010)\n"
     ]
    }
   ],
   "source": [
    "print(df_1.shape)\n",
    "print(df_2.shape)"
   ]
  },
  {
   "cell_type": "code",
   "execution_count": 33,
   "id": "4f0008a3",
   "metadata": {},
   "outputs": [],
   "source": [
    "df_1 = df_1.toarray()\n",
    "df_2 = df_2.toarray()"
   ]
  },
  {
   "cell_type": "code",
   "execution_count": 34,
   "id": "07dc4c7e",
   "metadata": {},
   "outputs": [
    {
     "name": "stdout",
     "output_type": "stream",
     "text": [
      "<class 'numpy.ndarray'>\n",
      "<class 'numpy.ndarray'>\n"
     ]
    }
   ],
   "source": [
    "print(type(df_1))\n",
    "print(type(df_2))"
   ]
  },
  {
   "cell_type": "code",
   "execution_count": 35,
   "id": "d917532b",
   "metadata": {},
   "outputs": [
    {
     "name": "stdout",
     "output_type": "stream",
     "text": [
      "(2128, 1010)\n",
      "(494, 1010)\n"
     ]
    }
   ],
   "source": [
    "print(df_1.shape)\n",
    "print(df_2.shape)"
   ]
  },
  {
   "cell_type": "code",
   "execution_count": 36,
   "id": "c0afbfe0",
   "metadata": {},
   "outputs": [
    {
     "data": {
      "text/plain": [
       "(2128, 494)"
      ]
     },
     "execution_count": 36,
     "metadata": {},
     "output_type": "execute_result"
    }
   ],
   "source": [
    "pairwise_distances(df_1, df_2, 'cosine').shape"
   ]
  },
  {
   "cell_type": "code",
   "execution_count": 37,
   "id": "0e143dbc",
   "metadata": {},
   "outputs": [],
   "source": [
    "# строим матрицу с расстояними между векторами\n",
    "df = pd.DataFrame(index = marketing_product['id'], \n",
    "                    columns = marketing_dealerprice['product_key']+ '_' + pd.Series(range(marketing_dealerprice.shape[0])).astype(str), \n",
    "                    data = pairwise_distances(df_2, df_1, metric = 'cosine'))"
   ]
  },
  {
   "cell_type": "code",
   "execution_count": 38,
   "id": "eb32a55f",
   "metadata": {},
   "outputs": [
    {
     "data": {
      "text/html": [
       "<div>\n",
       "<style scoped>\n",
       "    .dataframe tbody tr th:only-of-type {\n",
       "        vertical-align: middle;\n",
       "    }\n",
       "\n",
       "    .dataframe tbody tr th {\n",
       "        vertical-align: top;\n",
       "    }\n",
       "\n",
       "    .dataframe thead th {\n",
       "        text-align: right;\n",
       "    }\n",
       "</style>\n",
       "<table border=\"1\" class=\"dataframe\">\n",
       "  <thead>\n",
       "    <tr style=\"text-align: right;\">\n",
       "      <th></th>\n",
       "      <th>546227_0</th>\n",
       "      <th>546408_1</th>\n",
       "      <th>546234_2</th>\n",
       "      <th>651258_3</th>\n",
       "      <th>546355_4</th>\n",
       "      <th>831859_5</th>\n",
       "      <th>546406_6</th>\n",
       "      <th>831858_7</th>\n",
       "      <th>857015_8</th>\n",
       "      <th>651265_9</th>\n",
       "      <th>...</th>\n",
       "      <th>546235_2118</th>\n",
       "      <th>651256_2119</th>\n",
       "      <th>651257_2120</th>\n",
       "      <th>856988_2121</th>\n",
       "      <th>856956_2122</th>\n",
       "      <th>651260_2123</th>\n",
       "      <th>860509000_2124</th>\n",
       "      <th>900996549_2125</th>\n",
       "      <th>530170161_2126</th>\n",
       "      <th>528911039_2127</th>\n",
       "    </tr>\n",
       "    <tr>\n",
       "      <th>id</th>\n",
       "      <th></th>\n",
       "      <th></th>\n",
       "      <th></th>\n",
       "      <th></th>\n",
       "      <th></th>\n",
       "      <th></th>\n",
       "      <th></th>\n",
       "      <th></th>\n",
       "      <th></th>\n",
       "      <th></th>\n",
       "      <th></th>\n",
       "      <th></th>\n",
       "      <th></th>\n",
       "      <th></th>\n",
       "      <th></th>\n",
       "      <th></th>\n",
       "      <th></th>\n",
       "      <th></th>\n",
       "      <th></th>\n",
       "      <th></th>\n",
       "      <th></th>\n",
       "    </tr>\n",
       "  </thead>\n",
       "  <tbody>\n",
       "    <tr>\n",
       "      <th>245</th>\n",
       "      <td>0.959975</td>\n",
       "      <td>0.878610</td>\n",
       "      <td>0.971975</td>\n",
       "      <td>0.973751</td>\n",
       "      <td>0.969165</td>\n",
       "      <td>0.883767</td>\n",
       "      <td>0.972261</td>\n",
       "      <td>0.881558</td>\n",
       "      <td>0.972436</td>\n",
       "      <td>0.974655</td>\n",
       "      <td>...</td>\n",
       "      <td>0.972024</td>\n",
       "      <td>0.973531</td>\n",
       "      <td>0.969715</td>\n",
       "      <td>0.969981</td>\n",
       "      <td>0.969981</td>\n",
       "      <td>0.976279</td>\n",
       "      <td>0.974182</td>\n",
       "      <td>0.964623</td>\n",
       "      <td>0.794904</td>\n",
       "      <td>1.000000</td>\n",
       "    </tr>\n",
       "    <tr>\n",
       "      <th>3</th>\n",
       "      <td>0.978345</td>\n",
       "      <td>0.979884</td>\n",
       "      <td>0.984837</td>\n",
       "      <td>0.985798</td>\n",
       "      <td>0.983317</td>\n",
       "      <td>0.980739</td>\n",
       "      <td>0.984992</td>\n",
       "      <td>0.980373</td>\n",
       "      <td>0.937521</td>\n",
       "      <td>0.942550</td>\n",
       "      <td>...</td>\n",
       "      <td>0.984864</td>\n",
       "      <td>0.874139</td>\n",
       "      <td>0.983615</td>\n",
       "      <td>0.931955</td>\n",
       "      <td>0.931955</td>\n",
       "      <td>0.887209</td>\n",
       "      <td>0.941478</td>\n",
       "      <td>0.770734</td>\n",
       "      <td>0.871615</td>\n",
       "      <td>0.828698</td>\n",
       "    </tr>\n",
       "    <tr>\n",
       "      <th>443</th>\n",
       "      <td>1.000000</td>\n",
       "      <td>1.000000</td>\n",
       "      <td>1.000000</td>\n",
       "      <td>1.000000</td>\n",
       "      <td>1.000000</td>\n",
       "      <td>1.000000</td>\n",
       "      <td>1.000000</td>\n",
       "      <td>1.000000</td>\n",
       "      <td>0.902746</td>\n",
       "      <td>1.000000</td>\n",
       "      <td>...</td>\n",
       "      <td>1.000000</td>\n",
       "      <td>1.000000</td>\n",
       "      <td>1.000000</td>\n",
       "      <td>1.000000</td>\n",
       "      <td>1.000000</td>\n",
       "      <td>1.000000</td>\n",
       "      <td>0.703113</td>\n",
       "      <td>1.000000</td>\n",
       "      <td>1.000000</td>\n",
       "      <td>0.668357</td>\n",
       "    </tr>\n",
       "    <tr>\n",
       "      <th>147</th>\n",
       "      <td>1.000000</td>\n",
       "      <td>0.941137</td>\n",
       "      <td>0.987138</td>\n",
       "      <td>1.000000</td>\n",
       "      <td>0.985848</td>\n",
       "      <td>0.943638</td>\n",
       "      <td>0.987269</td>\n",
       "      <td>0.942567</td>\n",
       "      <td>1.000000</td>\n",
       "      <td>0.988368</td>\n",
       "      <td>...</td>\n",
       "      <td>0.987161</td>\n",
       "      <td>1.000000</td>\n",
       "      <td>1.000000</td>\n",
       "      <td>0.986223</td>\n",
       "      <td>0.986223</td>\n",
       "      <td>0.989114</td>\n",
       "      <td>0.988151</td>\n",
       "      <td>0.983764</td>\n",
       "      <td>1.000000</td>\n",
       "      <td>0.986764</td>\n",
       "    </tr>\n",
       "    <tr>\n",
       "      <th>502</th>\n",
       "      <td>1.000000</td>\n",
       "      <td>1.000000</td>\n",
       "      <td>1.000000</td>\n",
       "      <td>1.000000</td>\n",
       "      <td>1.000000</td>\n",
       "      <td>1.000000</td>\n",
       "      <td>1.000000</td>\n",
       "      <td>1.000000</td>\n",
       "      <td>0.817269</td>\n",
       "      <td>0.948908</td>\n",
       "      <td>...</td>\n",
       "      <td>1.000000</td>\n",
       "      <td>1.000000</td>\n",
       "      <td>1.000000</td>\n",
       "      <td>0.939485</td>\n",
       "      <td>0.939485</td>\n",
       "      <td>1.000000</td>\n",
       "      <td>0.749466</td>\n",
       "      <td>0.928685</td>\n",
       "      <td>0.885822</td>\n",
       "      <td>0.720135</td>\n",
       "    </tr>\n",
       "  </tbody>\n",
       "</table>\n",
       "<p>5 rows × 2128 columns</p>\n",
       "</div>"
      ],
      "text/plain": [
       "     546227_0  546408_1  546234_2  651258_3  546355_4  831859_5  546406_6  \\\n",
       "id                                                                          \n",
       "245  0.959975  0.878610  0.971975  0.973751  0.969165  0.883767  0.972261   \n",
       "3    0.978345  0.979884  0.984837  0.985798  0.983317  0.980739  0.984992   \n",
       "443  1.000000  1.000000  1.000000  1.000000  1.000000  1.000000  1.000000   \n",
       "147  1.000000  0.941137  0.987138  1.000000  0.985848  0.943638  0.987269   \n",
       "502  1.000000  1.000000  1.000000  1.000000  1.000000  1.000000  1.000000   \n",
       "\n",
       "     831858_7  857015_8  651265_9  ...   546235_2118   651256_2119  \\\n",
       "id                                 ...                               \n",
       "245  0.881558  0.972436  0.974655  ...      0.972024      0.973531   \n",
       "3    0.980373  0.937521  0.942550  ...      0.984864      0.874139   \n",
       "443  1.000000  0.902746  1.000000  ...      1.000000      1.000000   \n",
       "147  0.942567  1.000000  0.988368  ...      0.987161      1.000000   \n",
       "502  1.000000  0.817269  0.948908  ...      1.000000      1.000000   \n",
       "\n",
       "      651257_2120   856988_2121   856956_2122   651260_2123  860509000_2124  \\\n",
       "id                                                                            \n",
       "245      0.969715      0.969981      0.969981      0.976279        0.974182   \n",
       "3        0.983615      0.931955      0.931955      0.887209        0.941478   \n",
       "443      1.000000      1.000000      1.000000      1.000000        0.703113   \n",
       "147      1.000000      0.986223      0.986223      0.989114        0.988151   \n",
       "502      1.000000      0.939485      0.939485      1.000000        0.749466   \n",
       "\n",
       "     900996549_2125  530170161_2126  528911039_2127  \n",
       "id                                                   \n",
       "245        0.964623        0.794904        1.000000  \n",
       "3          0.770734        0.871615        0.828698  \n",
       "443        1.000000        1.000000        0.668357  \n",
       "147        0.983764        1.000000        0.986764  \n",
       "502        0.928685        0.885822        0.720135  \n",
       "\n",
       "[5 rows x 2128 columns]"
      ]
     },
     "execution_count": 38,
     "metadata": {},
     "output_type": "execute_result"
    }
   ],
   "source": [
    "df.head()"
   ]
  },
  {
   "cell_type": "code",
   "execution_count": 39,
   "id": "2ffb8b62",
   "metadata": {},
   "outputs": [
    {
     "data": {
      "text/plain": [
       "(494, 2128)"
      ]
     },
     "execution_count": 39,
     "metadata": {},
     "output_type": "execute_result"
    }
   ],
   "source": [
    "df.shape"
   ]
  },
  {
   "cell_type": "markdown",
   "id": "d5447173",
   "metadata": {},
   "source": [
    "### Ввод названия товара дилера с возвратом соответствующих названий у заказчика."
   ]
  },
  {
   "cell_type": "code",
   "execution_count": 40,
   "id": "48c6c429",
   "metadata": {},
   "outputs": [
    {
     "data": {
      "text/plain": [
       "5    Пропитка PROSEPT Aquaisol для камня, концентрат  1:2  1л\n",
       "Name: product_name, dtype: object"
      ]
     },
     "execution_count": 40,
     "metadata": {},
     "output_type": "execute_result"
    }
   ],
   "source": [
    "# получим произвольное название для поиска соответствия\n",
    "marketing_dealerprice.loc[marketing_dealerprice['product_key'] == '831859', 'product_name']"
   ]
  },
  {
   "cell_type": "code",
   "execution_count": 41,
   "id": "b61a75d3",
   "metadata": {},
   "outputs": [],
   "source": [
    "name = 'Средство для мытья плитки и керамогранита Prosept Multipower Kerama 1л'"
   ]
  },
  {
   "cell_type": "code",
   "execution_count": 42,
   "id": "c7214bb5",
   "metadata": {},
   "outputs": [],
   "source": [
    "product_key = marketing_dealerprice.loc[marketing_dealerprice['product_name'] == name, 'product_key']"
   ]
  },
  {
   "cell_type": "code",
   "execution_count": 43,
   "id": "01f8d581",
   "metadata": {},
   "outputs": [],
   "source": [
    "product_key = product_key.to_list()[0] + '_' + str(product_key.index[0])"
   ]
  },
  {
   "cell_type": "code",
   "execution_count": 44,
   "id": "8f6d19d5",
   "metadata": {},
   "outputs": [],
   "source": [
    "top_k = 5"
   ]
  },
  {
   "cell_type": "markdown",
   "id": "de560229",
   "metadata": {},
   "source": [
    "### Получение названий."
   ]
  },
  {
   "cell_type": "code",
   "execution_count": 45,
   "id": "6bd46630",
   "metadata": {},
   "outputs": [],
   "source": [
    "z = df[product_key].sort_values()[:top_k].index.to_list()"
   ]
  },
  {
   "cell_type": "code",
   "execution_count": 46,
   "id": "6f949d58",
   "metadata": {},
   "outputs": [
    {
     "data": {
      "text/plain": [
       "60       Средство для мытья полов PROSEPT Multipower \"После дождя\", 2 штуки*0.8 л.\n",
       "63                     Концентрат для мытья полов и стен Multipower \"Цитрус\" 0,8 л\n",
       "246    Средство для мытья плитки и керамогранитаMultipower Keramaконцентрат  / 5 л\n",
       "247    Средство для мытья плитки и керамогранитаMultipower Keramaконцентрат  / 1 л\n",
       "273                 Средство для мытья полов всех типов PROSEPT Multipower E, 1 л.\n",
       "Name: name, dtype: object"
      ]
     },
     "execution_count": 46,
     "metadata": {},
     "output_type": "execute_result"
    }
   ],
   "source": [
    "marketing_product.loc[marketing_product['id'].isin(z) , 'name']"
   ]
  },
  {
   "cell_type": "markdown",
   "id": "886e31b6",
   "metadata": {},
   "source": [
    "### Получение id"
   ]
  },
  {
   "cell_type": "code",
   "execution_count": 47,
   "id": "79953065",
   "metadata": {},
   "outputs": [],
   "source": [
    "q = df[product_key].sort_values()[:top_k]"
   ]
  },
  {
   "cell_type": "code",
   "execution_count": 48,
   "id": "20401a32",
   "metadata": {},
   "outputs": [
    {
     "data": {
      "text/plain": [
       "id\n",
       "41     0.071465\n",
       "40     0.071465\n",
       "30     0.746881\n",
       "513    0.773902\n",
       "470    0.782767\n",
       "Name: 546406_6, dtype: float64"
      ]
     },
     "execution_count": 48,
     "metadata": {},
     "output_type": "execute_result"
    }
   ],
   "source": [
    "q"
   ]
  },
  {
   "cell_type": "code",
   "execution_count": 49,
   "id": "1d0b49d0",
   "metadata": {},
   "outputs": [],
   "source": [
    "q = pd.DataFrame(q)"
   ]
  },
  {
   "cell_type": "code",
   "execution_count": 50,
   "id": "6625da6c",
   "metadata": {},
   "outputs": [],
   "source": [
    "q['id'] = q.index.values"
   ]
  },
  {
   "cell_type": "code",
   "execution_count": 51,
   "id": "ac0f4f9c",
   "metadata": {},
   "outputs": [
    {
     "data": {
      "text/plain": [
       "[[0.07146514142404947, 41.0],\n",
       " [0.07146514142404947, 40.0],\n",
       " [0.7468807177310398, 30.0],\n",
       " [0.7739016164589374, 513.0],\n",
       " [0.782767450770523, 470.0]]"
      ]
     },
     "execution_count": 51,
     "metadata": {},
     "output_type": "execute_result"
    }
   ],
   "source": [
    "q.values.tolist()"
   ]
  },
  {
   "cell_type": "code",
   "execution_count": 52,
   "id": "28e05e88",
   "metadata": {},
   "outputs": [
    {
     "data": {
      "text/plain": [
       "array([[7.14651414e-02, 4.10000000e+01],\n",
       "       [7.14651414e-02, 4.00000000e+01],\n",
       "       [7.46880718e-01, 3.00000000e+01],\n",
       "       [7.73901616e-01, 5.13000000e+02],\n",
       "       [7.82767451e-01, 4.70000000e+02]])"
      ]
     },
     "execution_count": 52,
     "metadata": {},
     "output_type": "execute_result"
    }
   ],
   "source": [
    "q.values"
   ]
  },
  {
   "cell_type": "markdown",
   "id": "5b79f879",
   "metadata": {},
   "source": [
    "### Подсчет метрики accuracy"
   ]
  },
  {
   "cell_type": "code",
   "execution_count": 53,
   "id": "85da022c",
   "metadata": {},
   "outputs": [
    {
     "data": {
      "text/plain": [
       "0.7030075187969925"
      ]
     },
     "execution_count": 53,
     "metadata": {},
     "output_type": "execute_result"
    }
   ],
   "source": [
    "#df = df[list(set(df.columns))]\n",
    "\n",
    "#df.columns = df.columns.astype(str)\n",
    "\n",
    "matches = []\n",
    "\n",
    "for col in set(df.columns):\n",
    "        \n",
    "    top_cands = df.loc[:, col].sort_values(ascending=True)[:top_k].index.tolist()\n",
    "    product_key = ''.join(col.split('_')[:-1])\n",
    "    \n",
    "    # print(product_key)\n",
    "    \n",
    "    if  marketing_productdealerkey.loc[marketing_productdealerkey['key'] == product_key].shape[0] == 0:\n",
    "        matches.append(0)\n",
    "        continue\n",
    "        \n",
    "    match_id = marketing_productdealerkey.loc[marketing_productdealerkey['key'] == product_key, 'product_id'].values[0]\n",
    "    if match_id in top_cands:\n",
    "        matches.append(1)\n",
    "    else:\n",
    "        matches.append(0)\n",
    "        \n",
    "np.mean(matches)"
   ]
  },
  {
   "cell_type": "code",
   "execution_count": null,
   "id": "fce757b1",
   "metadata": {},
   "outputs": [],
   "source": []
  },
  {
   "cell_type": "code",
   "execution_count": null,
   "id": "3f90713d",
   "metadata": {},
   "outputs": [],
   "source": []
  }
 ],
 "metadata": {
  "kernelspec": {
   "display_name": "Python 3 (ipykernel)",
   "language": "python",
   "name": "python3"
  },
  "language_info": {
   "codemirror_mode": {
    "name": "ipython",
    "version": 3
   },
   "file_extension": ".py",
   "mimetype": "text/x-python",
   "name": "python",
   "nbconvert_exporter": "python",
   "pygments_lexer": "ipython3",
   "version": "3.9.12"
  }
 },
 "nbformat": 4,
 "nbformat_minor": 5
}
